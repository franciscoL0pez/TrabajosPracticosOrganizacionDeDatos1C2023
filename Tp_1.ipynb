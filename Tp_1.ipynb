{
  "cells": [
    {
      "cell_type": "markdown",
      "metadata": {
        "id": "view-in-github",
        "colab_type": "text"
      },
      "source": [
        "<a href=\"https://colab.research.google.com/github/franlopez1234/7506R-1C2023-GRUPO17/blob/Tp_1/Tp_1.ipynb\" target=\"_parent\"><img src=\"https://colab.research.google.com/assets/colab-badge.svg\" alt=\"Open In Colab\"/></a>"
      ]
    },
    {
      "cell_type": "code",
      "execution_count": 1,
      "metadata": {
        "id": "3Vp9F0hNwSFe"
      },
      "outputs": [],
      "source": [
        "import numpy as np \n",
        "import pandas as pd\n",
        "from sklearn.preprocessing import OrdinalEncoder\n",
        "from pandas.plotting import scatter_matrix\n",
        "import matplotlib.pyplot as plt\n",
        "import seaborn as sns\n",
        "\n",
        "\n",
        "import warnings\n",
        "warnings.simplefilter(action='ignore', category=FutureWarning)"
      ]
    },
    {
      "cell_type": "markdown",
      "metadata": {
        "id": "hIsPOGyU_QIy"
      },
      "source": [
        "Preparacion del Dataset"
      ]
    },
    {
      "cell_type": "code",
      "execution_count": 2,
      "metadata": {
        "colab": {
          "base_uri": "https://localhost:8080/"
        },
        "id": "_sBI1hgC2Oug",
        "outputId": "e649aa72-2659-4b1d-fa1b-8bd76bc04767"
      },
      "outputs": [
        {
          "output_type": "stream",
          "name": "stdout",
          "text": [
            "Mounted at /content/drive\n"
          ]
        }
      ],
      "source": [
        "from google.colab import drive\n",
        "drive.mount('/content/drive')"
      ]
    },
    {
      "cell_type": "code",
      "execution_count": 3,
      "metadata": {
        "id": "UuFK5urH2n7g",
        "outputId": "94ae6476-4113-4a33-d33c-8b6ee9ebf2f0",
        "colab": {
          "base_uri": "https://localhost:8080/",
          "height": 324
        }
      },
      "outputs": [
        {
          "output_type": "error",
          "ename": "FileNotFoundError",
          "evalue": "ignored",
          "traceback": [
            "\u001b[0;31m---------------------------------------------------------------------------\u001b[0m",
            "\u001b[0;31mFileNotFoundError\u001b[0m                         Traceback (most recent call last)",
            "\u001b[0;32m<ipython-input-3-f7cbeffeba43>\u001b[0m in \u001b[0;36m<cell line: 1>\u001b[0;34m()\u001b[0m\n\u001b[0;32m----> 1\u001b[0;31m \u001b[0mdf_hotels_train\u001b[0m \u001b[0;34m=\u001b[0m \u001b[0mpd\u001b[0m\u001b[0;34m.\u001b[0m\u001b[0mread_csv\u001b[0m\u001b[0;34m(\u001b[0m\u001b[0;34m'drive/MyDrive/hotels_train.csv'\u001b[0m\u001b[0;34m)\u001b[0m\u001b[0;34m\u001b[0m\u001b[0;34m\u001b[0m\u001b[0m\n\u001b[0m",
            "\u001b[0;32m/usr/local/lib/python3.9/dist-packages/pandas/util/_decorators.py\u001b[0m in \u001b[0;36mwrapper\u001b[0;34m(*args, **kwargs)\u001b[0m\n\u001b[1;32m    309\u001b[0m                     \u001b[0mstacklevel\u001b[0m\u001b[0;34m=\u001b[0m\u001b[0mstacklevel\u001b[0m\u001b[0;34m,\u001b[0m\u001b[0;34m\u001b[0m\u001b[0;34m\u001b[0m\u001b[0m\n\u001b[1;32m    310\u001b[0m                 )\n\u001b[0;32m--> 311\u001b[0;31m             \u001b[0;32mreturn\u001b[0m \u001b[0mfunc\u001b[0m\u001b[0;34m(\u001b[0m\u001b[0;34m*\u001b[0m\u001b[0margs\u001b[0m\u001b[0;34m,\u001b[0m \u001b[0;34m**\u001b[0m\u001b[0mkwargs\u001b[0m\u001b[0;34m)\u001b[0m\u001b[0;34m\u001b[0m\u001b[0;34m\u001b[0m\u001b[0m\n\u001b[0m\u001b[1;32m    312\u001b[0m \u001b[0;34m\u001b[0m\u001b[0m\n\u001b[1;32m    313\u001b[0m         \u001b[0;32mreturn\u001b[0m \u001b[0mwrapper\u001b[0m\u001b[0;34m\u001b[0m\u001b[0;34m\u001b[0m\u001b[0m\n",
            "\u001b[0;32m/usr/local/lib/python3.9/dist-packages/pandas/io/parsers/readers.py\u001b[0m in \u001b[0;36mread_csv\u001b[0;34m(filepath_or_buffer, sep, delimiter, header, names, index_col, usecols, squeeze, prefix, mangle_dupe_cols, dtype, engine, converters, true_values, false_values, skipinitialspace, skiprows, skipfooter, nrows, na_values, keep_default_na, na_filter, verbose, skip_blank_lines, parse_dates, infer_datetime_format, keep_date_col, date_parser, dayfirst, cache_dates, iterator, chunksize, compression, thousands, decimal, lineterminator, quotechar, quoting, doublequote, escapechar, comment, encoding, encoding_errors, dialect, error_bad_lines, warn_bad_lines, on_bad_lines, delim_whitespace, low_memory, memory_map, float_precision, storage_options)\u001b[0m\n\u001b[1;32m    676\u001b[0m     \u001b[0mkwds\u001b[0m\u001b[0;34m.\u001b[0m\u001b[0mupdate\u001b[0m\u001b[0;34m(\u001b[0m\u001b[0mkwds_defaults\u001b[0m\u001b[0;34m)\u001b[0m\u001b[0;34m\u001b[0m\u001b[0;34m\u001b[0m\u001b[0m\n\u001b[1;32m    677\u001b[0m \u001b[0;34m\u001b[0m\u001b[0m\n\u001b[0;32m--> 678\u001b[0;31m     \u001b[0;32mreturn\u001b[0m \u001b[0m_read\u001b[0m\u001b[0;34m(\u001b[0m\u001b[0mfilepath_or_buffer\u001b[0m\u001b[0;34m,\u001b[0m \u001b[0mkwds\u001b[0m\u001b[0;34m)\u001b[0m\u001b[0;34m\u001b[0m\u001b[0;34m\u001b[0m\u001b[0m\n\u001b[0m\u001b[1;32m    679\u001b[0m \u001b[0;34m\u001b[0m\u001b[0m\n\u001b[1;32m    680\u001b[0m \u001b[0;34m\u001b[0m\u001b[0m\n",
            "\u001b[0;32m/usr/local/lib/python3.9/dist-packages/pandas/io/parsers/readers.py\u001b[0m in \u001b[0;36m_read\u001b[0;34m(filepath_or_buffer, kwds)\u001b[0m\n\u001b[1;32m    573\u001b[0m \u001b[0;34m\u001b[0m\u001b[0m\n\u001b[1;32m    574\u001b[0m     \u001b[0;31m# Create the parser.\u001b[0m\u001b[0;34m\u001b[0m\u001b[0;34m\u001b[0m\u001b[0m\n\u001b[0;32m--> 575\u001b[0;31m     \u001b[0mparser\u001b[0m \u001b[0;34m=\u001b[0m \u001b[0mTextFileReader\u001b[0m\u001b[0;34m(\u001b[0m\u001b[0mfilepath_or_buffer\u001b[0m\u001b[0;34m,\u001b[0m \u001b[0;34m**\u001b[0m\u001b[0mkwds\u001b[0m\u001b[0;34m)\u001b[0m\u001b[0;34m\u001b[0m\u001b[0;34m\u001b[0m\u001b[0m\n\u001b[0m\u001b[1;32m    576\u001b[0m \u001b[0;34m\u001b[0m\u001b[0m\n\u001b[1;32m    577\u001b[0m     \u001b[0;32mif\u001b[0m \u001b[0mchunksize\u001b[0m \u001b[0;32mor\u001b[0m \u001b[0miterator\u001b[0m\u001b[0;34m:\u001b[0m\u001b[0;34m\u001b[0m\u001b[0;34m\u001b[0m\u001b[0m\n",
            "\u001b[0;32m/usr/local/lib/python3.9/dist-packages/pandas/io/parsers/readers.py\u001b[0m in \u001b[0;36m__init__\u001b[0;34m(self, f, engine, **kwds)\u001b[0m\n\u001b[1;32m    930\u001b[0m \u001b[0;34m\u001b[0m\u001b[0m\n\u001b[1;32m    931\u001b[0m         \u001b[0mself\u001b[0m\u001b[0;34m.\u001b[0m\u001b[0mhandles\u001b[0m\u001b[0;34m:\u001b[0m \u001b[0mIOHandles\u001b[0m \u001b[0;34m|\u001b[0m \u001b[0;32mNone\u001b[0m \u001b[0;34m=\u001b[0m \u001b[0;32mNone\u001b[0m\u001b[0;34m\u001b[0m\u001b[0;34m\u001b[0m\u001b[0m\n\u001b[0;32m--> 932\u001b[0;31m         \u001b[0mself\u001b[0m\u001b[0;34m.\u001b[0m\u001b[0m_engine\u001b[0m \u001b[0;34m=\u001b[0m \u001b[0mself\u001b[0m\u001b[0;34m.\u001b[0m\u001b[0m_make_engine\u001b[0m\u001b[0;34m(\u001b[0m\u001b[0mf\u001b[0m\u001b[0;34m,\u001b[0m \u001b[0mself\u001b[0m\u001b[0;34m.\u001b[0m\u001b[0mengine\u001b[0m\u001b[0;34m)\u001b[0m\u001b[0;34m\u001b[0m\u001b[0;34m\u001b[0m\u001b[0m\n\u001b[0m\u001b[1;32m    933\u001b[0m \u001b[0;34m\u001b[0m\u001b[0m\n\u001b[1;32m    934\u001b[0m     \u001b[0;32mdef\u001b[0m \u001b[0mclose\u001b[0m\u001b[0;34m(\u001b[0m\u001b[0mself\u001b[0m\u001b[0;34m)\u001b[0m\u001b[0;34m:\u001b[0m\u001b[0;34m\u001b[0m\u001b[0;34m\u001b[0m\u001b[0m\n",
            "\u001b[0;32m/usr/local/lib/python3.9/dist-packages/pandas/io/parsers/readers.py\u001b[0m in \u001b[0;36m_make_engine\u001b[0;34m(self, f, engine)\u001b[0m\n\u001b[1;32m   1214\u001b[0m             \u001b[0;31m# \"Union[str, PathLike[str], ReadCsvBuffer[bytes], ReadCsvBuffer[str]]\"\u001b[0m\u001b[0;34m\u001b[0m\u001b[0;34m\u001b[0m\u001b[0m\n\u001b[1;32m   1215\u001b[0m             \u001b[0;31m# , \"str\", \"bool\", \"Any\", \"Any\", \"Any\", \"Any\", \"Any\"\u001b[0m\u001b[0;34m\u001b[0m\u001b[0;34m\u001b[0m\u001b[0m\n\u001b[0;32m-> 1216\u001b[0;31m             self.handles = get_handle(  # type: ignore[call-overload]\n\u001b[0m\u001b[1;32m   1217\u001b[0m                 \u001b[0mf\u001b[0m\u001b[0;34m,\u001b[0m\u001b[0;34m\u001b[0m\u001b[0;34m\u001b[0m\u001b[0m\n\u001b[1;32m   1218\u001b[0m                 \u001b[0mmode\u001b[0m\u001b[0;34m,\u001b[0m\u001b[0;34m\u001b[0m\u001b[0;34m\u001b[0m\u001b[0m\n",
            "\u001b[0;32m/usr/local/lib/python3.9/dist-packages/pandas/io/common.py\u001b[0m in \u001b[0;36mget_handle\u001b[0;34m(path_or_buf, mode, encoding, compression, memory_map, is_text, errors, storage_options)\u001b[0m\n\u001b[1;32m    784\u001b[0m         \u001b[0;32mif\u001b[0m \u001b[0mioargs\u001b[0m\u001b[0;34m.\u001b[0m\u001b[0mencoding\u001b[0m \u001b[0;32mand\u001b[0m \u001b[0;34m\"b\"\u001b[0m \u001b[0;32mnot\u001b[0m \u001b[0;32min\u001b[0m \u001b[0mioargs\u001b[0m\u001b[0;34m.\u001b[0m\u001b[0mmode\u001b[0m\u001b[0;34m:\u001b[0m\u001b[0;34m\u001b[0m\u001b[0;34m\u001b[0m\u001b[0m\n\u001b[1;32m    785\u001b[0m             \u001b[0;31m# Encoding\u001b[0m\u001b[0;34m\u001b[0m\u001b[0;34m\u001b[0m\u001b[0m\n\u001b[0;32m--> 786\u001b[0;31m             handle = open(\n\u001b[0m\u001b[1;32m    787\u001b[0m                 \u001b[0mhandle\u001b[0m\u001b[0;34m,\u001b[0m\u001b[0;34m\u001b[0m\u001b[0;34m\u001b[0m\u001b[0m\n\u001b[1;32m    788\u001b[0m                 \u001b[0mioargs\u001b[0m\u001b[0;34m.\u001b[0m\u001b[0mmode\u001b[0m\u001b[0;34m,\u001b[0m\u001b[0;34m\u001b[0m\u001b[0;34m\u001b[0m\u001b[0m\n",
            "\u001b[0;31mFileNotFoundError\u001b[0m: [Errno 2] No such file or directory: 'drive/MyDrive/hotels_train.csv'"
          ]
        }
      ],
      "source": [
        "df_hotels_train = pd.read_csv('drive/MyDrive/hotels_train.csv')"
      ]
    },
    {
      "cell_type": "markdown",
      "metadata": {
        "id": "Qzh1YTSHDPuh"
      },
      "source": [
        "Observamos los tipos de datos contienen nuestras columnas"
      ]
    },
    {
      "cell_type": "code",
      "execution_count": null,
      "metadata": {
        "id": "gudkJTrdGnvD"
      },
      "outputs": [],
      "source": [
        "#Eliminamos las columnas de reservation_status y reservation_status_date para evitar confusiones\n",
        "#df_hotels_train = df_hotels_train.drop(['reservation_status','reservation_status_date'], axis =1) ->Desmarcar al abrir el archivo\n",
        "df_hotels_train.dtypes"
      ]
    },
    {
      "cell_type": "markdown",
      "metadata": {
        "id": "nJyKe3Aab7He"
      },
      "source": [
        "Como los datos del tipo object dificultan realizar graficos y usar algunas funciones de colab, vamos a definir un tipo de dato para cada uno"
      ]
    },
    {
      "cell_type": "code",
      "execution_count": null,
      "metadata": {
        "id": "xCl02AUtWNhI"
      },
      "outputs": [],
      "source": [
        "df_hotels_train['hotel'] = df_hotels_train['hotel'].astype('string')\n",
        "df_hotels_train['arrival_date_month'] = df_hotels_train['arrival_date_month'].astype('string')\n",
        "df_hotels_train['meal'] = df_hotels_train['meal'].astype('string')\n",
        "df_hotels_train['country'] = df_hotels_train['country'].astype('string')\n",
        "df_hotels_train['id'] = df_hotels_train['id'].astype('string')\n",
        "df_hotels_train['customer_type'] = df_hotels_train['customer_type'].astype('string')\n",
        "df_hotels_train['market_segment'] = df_hotels_train['market_segment'].astype('string')\n",
        "df_hotels_train['distribution_channel'] = df_hotels_train['distribution_channel'].astype('string')\n",
        "df_hotels_train['reserved_room_type'] = df_hotels_train['reserved_room_type'].astype('string')\n",
        "df_hotels_train['assigned_room_type'] = df_hotels_train['assigned_room_type'].astype('string')\n",
        "df_hotels_train['deposit_type'] = df_hotels_train['deposit_type'].astype('string')\n"
      ]
    },
    {
      "cell_type": "markdown",
      "metadata": {
        "id": "Gc01VsnFV5Oy"
      },
      "source": [
        "##Mostramos las variables cuantitativas"
      ]
    },
    {
      "cell_type": "code",
      "execution_count": null,
      "metadata": {
        "id": "O1wxXJP3LwYY"
      },
      "outputs": [],
      "source": [
        "lista_cuantitativas = ['adults','children', 'babies','previous_cancellations','previous_bookings_not_canceled','booking_changes','adr','total_of_special_requests',  'lead_time','arrival_date_week_number','arrival_date_day_of_month','stays_in_weekend_nights','stays_in_week_nights', 'days_in_waiting_list']\n",
        "df_cuantitativas = df_hotels_train[lista_cuantitativas].squeeze() #Primero separamos las cuantitvas\n",
        "df_cuantitativas.head(5)"
      ]
    },
    {
      "cell_type": "markdown",
      "metadata": {
        "id": "uWlpMiLdbQz0"
      },
      "source": [
        "Mostramos media, moda y mediana"
      ]
    },
    {
      "cell_type": "code",
      "execution_count": null,
      "metadata": {
        "id": "V4maExPubH5m"
      },
      "outputs": [],
      "source": [
        "df_cuantitativas.mean()"
      ]
    },
    {
      "cell_type": "code",
      "execution_count": null,
      "metadata": {
        "id": "ItQo2RtMcVT1"
      },
      "outputs": [],
      "source": [
        "df_cuantitativas.mode().squeeze()"
      ]
    },
    {
      "cell_type": "code",
      "execution_count": null,
      "metadata": {
        "id": "XjFx_z8acn99"
      },
      "outputs": [],
      "source": [
        "df_cuantitativas.median()"
      ]
    },
    {
      "cell_type": "markdown",
      "metadata": {
        "id": "FOUn2GHRZxXF"
      },
      "source": [
        "##Mostramos las variables cualitativas"
      ]
    },
    {
      "cell_type": "code",
      "execution_count": null,
      "metadata": {
        "id": "xmoy4rgqZ1cJ"
      },
      "outputs": [],
      "source": [
        "df_cualitativas = df_hotels_train.drop(lista_cuantitativas, axis=1).squeeze()\n",
        "df_cualitativas.head(5)"
      ]
    },
    {
      "cell_type": "code",
      "execution_count": null,
      "metadata": {
        "id": "0HSBmzgB-rMM"
      },
      "outputs": [],
      "source": [
        "#Mostramos los posibles valores que toman las variables cualitativas y cada cuanto los toman\n",
        "for c in df_cualitativas.columns:\n",
        "    print(\"----\"+c+\"---\")\n",
        "    print(df_cualitativas[c].value_counts())\n",
        "    print()"
      ]
    },
    {
      "cell_type": "markdown",
      "metadata": {
        "id": "X7a-9UQJ-R_g"
      },
      "source": [
        "##Analisis de correlacion y graficos de distribucion de las variables"
      ]
    },
    {
      "cell_type": "markdown",
      "source": [
        "*Distribucion de datos*"
      ],
      "metadata": {
        "id": "ZUcfZ_UtrMVC"
      }
    },
    {
      "cell_type": "code",
      "execution_count": null,
      "metadata": {
        "id": "0ZISEEgeh_bR"
      },
      "outputs": [],
      "source": [
        "#df_hotels_train.hist(figsize=(20,20), bins=27)"
      ]
    },
    {
      "cell_type": "code",
      "execution_count": null,
      "metadata": {
        "id": "KVuK9rnnCW3l"
      },
      "outputs": [],
      "source": [
        "#Realizamos graficos para ver la distribucion de las varaibles\n",
        "\n",
        "#Countrys\n",
        "graf_de_paises = df_hotels_train['country'].value_counts().head(20)\n",
        "graf_de_paises.plot(kind='bar')\n"
      ]
    },
    {
      "cell_type": "code",
      "source": [
        "graf_de_agent = df_hotels_train['agent'].value_counts().head(20)\n",
        "graf_de_agent.plot(kind='bar')"
      ],
      "metadata": {
        "id": "9tdjvkl6tckq"
      },
      "execution_count": null,
      "outputs": []
    },
    {
      "cell_type": "markdown",
      "metadata": {
        "id": "Q8UM5PifmqRj"
      },
      "source": [
        "Analisis de la correlacion entre variables"
      ]
    },
    {
      "cell_type": "code",
      "execution_count": null,
      "metadata": {
        "id": "LSGcksKUqjt5"
      },
      "outputs": [],
      "source": [
        "correlacion_todas = df_hotels_train.corr()\n",
        "display(correlacion_todas)\n"
      ]
    },
    {
      "cell_type": "markdown",
      "metadata": {
        "id": "reZ3dyVseaAv"
      },
      "source": [
        "En esta tabla podemos ver que hay varias variables que estan fuertemente o debilmente correlacionadas, tambien haremos un analisis con nuestra variable target, por lo tanto veremos los graficos en el siguiente punto"
      ]
    },
    {
      "cell_type": "markdown",
      "metadata": {
        "id": "TJfXCxSemyE-"
      },
      "source": [
        "Analisimos el target con el resto de las variables"
      ]
    },
    {
      "cell_type": "code",
      "execution_count": null,
      "metadata": {
        "id": "XA5C6pOIedyz"
      },
      "outputs": [],
      "source": [
        "#Recalco que para ver las correlacion las varaibles deben ser del tipo numerica\n",
        "correlations = df_hotels_train.corr()['is_canceled']\n",
        "display(correlations)"
      ]
    },
    {
      "cell_type": "markdown",
      "metadata": {
        "id": "a4RCC2Xy9F4-"
      },
      "source": []
    },
    {
      "cell_type": "markdown",
      "metadata": {
        "id": "Vh6KNB4wcIdN"
      },
      "source": [
        "Realizaremos dos graficos para el analisis de las correlaciones con nuestras variable, separandolos en \"positivas\" y \"negativas\""
      ]
    },
    {
      "cell_type": "code",
      "execution_count": null,
      "metadata": {
        "id": "Au1VubUgcXr8"
      },
      "outputs": [],
      "source": [
        "lista_corr_negativas = ['is_canceled','arrival_date_day_of_month','babies','is_repeated_guest','previous_bookings_not_canceled','booking_changes','agent','company','required_car_parking_spaces','total_of_special_requests']\n",
        "corr_matrix = df_hotels_train[lista_corr_negativas].corr() \n",
        "sns.set(rc = {'figure.figsize':(10,9)})\n",
        "heatmap = sns.heatmap(corr_matrix, vmin=-1, vmax=1, annot=True, cmap=\"BuPu\")\n",
        "heatmap.set_xticklabels(\n",
        "    \n",
        "    heatmap.get_xticklabels(), \n",
        "    rotation=90, \n",
        "    horizontalalignment='right',\n",
        "    fontweight='light',\n",
        "    fontsize='large'\n",
        ")\n",
        "\n",
        "heatmap.set_yticklabels(\n",
        "    heatmap.get_yticklabels(),\n",
        "    fontweight='light',\n",
        "    fontsize='large'\n",
        ")\n",
        "\n",
        "\n",
        "\n",
        "plt.show()"
      ]
    },
    {
      "cell_type": "markdown",
      "metadata": {
        "id": "i6cAi7G6J_rA"
      },
      "source": [
        "Vemos que las variables que tiene la correlacion \"negativa\" mas alta son required_card_parking_space ,total_of_spaces_request y booking_changed. Luego tenemos otras que tienen una menor relacion con nuestra variable target como arrival_date_day_of_month (la cual es casi 0)"
      ]
    },
    {
      "cell_type": "code",
      "execution_count": null,
      "metadata": {
        "id": "Ly50eJsEzOFZ"
      },
      "outputs": [],
      "source": [
        "\n",
        "\n",
        "lista_corr_positiva = ['is_canceled','lead_time','arrival_date_week_number','stays_in_weekend_nights','stays_in_week_nights','adults','children','previous_cancellations','days_in_waiting_list','adr',]\n",
        "corr_matrix = df_hotels_train[lista_corr_positiva].corr()\n",
        "sns.set(rc = {'figure.figsize':(9,8)})\n",
        "heatmap = sns.heatmap(corr_matrix, vmin=-1, vmax=1, annot=True, cmap=\"BuPu\")\n",
        "heatmap.set_xticklabels(\n",
        "    \n",
        "    heatmap.get_xticklabels(), \n",
        "    rotation=90, \n",
        "    horizontalalignment='right',\n",
        "    fontweight='light',\n",
        "    fontsize='large'\n",
        ")\n",
        "\n",
        "heatmap.set_yticklabels(\n",
        "    heatmap.get_yticklabels(),\n",
        "    fontweight='light',\n",
        "    fontsize='large'\n",
        ")\n",
        "\n",
        "\n",
        "\n",
        "plt.show()"
      ]
    },
    {
      "cell_type": "markdown",
      "metadata": {
        "id": "giO_ZhcWEJdN"
      },
      "source": [
        "Podemos ver que las variables que tienen una relacion \"positiva\" mas alta con nuestro target son lead_time y previos cancelation.\n",
        "Luego, tenemos algunas variables que tambien tienen un correlacion considerable como adults (la cual, es bastante baja).\n",
        "El resto de las variables tiene una correlacion muy baja con nuestra variable target"
      ]
    },
    {
      "cell_type": "markdown",
      "metadata": {
        "id": "dK59epDHNTLp"
      },
      "source": [
        "Como punto final, podemos tambien analizar la correlacion entre todas nuestras variables. ademas de nuestra variable target y ver si sus correlacion son fuertes o debiles"
      ]
    },
    {
      "cell_type": "markdown",
      "metadata": {
        "id": "xa-wLB-_XDiJ"
      },
      "source": []
    },
    {
      "cell_type": "markdown",
      "metadata": {
        "id": "GnMbBuIH95v8"
      },
      "source": [
        "## Visualización de los datos"
      ]
    },
    {
      "cell_type": "markdown",
      "metadata": {
        "id": "DA7RBxpWSC9l"
      },
      "source": [
        "Como primera visualizacion de nuestros datos empezaremos por nuestra variable target (is_caceled)"
      ]
    },
    {
      "cell_type": "code",
      "execution_count": null,
      "metadata": {
        "id": "net6wrtYSwff"
      },
      "outputs": [],
      "source": [
        "cancelaciones = df_hotels_train['is_canceled'].value_counts()\n",
        "colores = ['#4F6272', '#B7C3F3', '#DD7596', '#8EB897']\n",
        "nombres = 'cancelo','No cancelo'\n",
        "plt.pie(cancelaciones, labels = nombres, labeldistance=1.1, wedgeprops = { 'linewidth' : 3, 'edgecolor' : 'white' }, colors = colores, autopct = '%1.2f%%')\n",
        "plt.show()"
      ]
    },
    {
      "cell_type": "markdown",
      "metadata": {
        "id": "9a-rInkEalRg"
      },
      "source": [
        "Como primer analisis vemos que tenemos un 50.03% de reservas canceladas y un 49.97% que no."
      ]
    },
    {
      "cell_type": "markdown",
      "metadata": {
        "id": "MtuOxXATa0h7"
      },
      "source": [
        "Como siguiente visualizacion, haremos un grafico para ver la dispersion de nuestros datos."
      ]
    },
    {
      "cell_type": "code",
      "source": [
        "# Scatter plot\n",
        "columns_to_plot = [\"lead_time\", \"previous_bookings_not_canceled\", \"hotel\"]\n",
        "\n",
        "fig, ax = plt.subplots()\n",
        "for t, data in df_hotels_train[columns_to_plot].groupby(columns_to_plot[2]):\n",
        "  ax.scatter(data[columns_to_plot[0]], data[columns_to_plot[1]], label=t, alpha=0.6)\n",
        "\n",
        "plt.xlabel(columns_to_plot[0])\n",
        "plt.ylabel(columns_to_plot[1])\n",
        "plt.legend()\n",
        "plt.show()"
      ],
      "metadata": {
        "id": "cjE0Ve6fvzH6"
      },
      "execution_count": null,
      "outputs": []
    },
    {
      "cell_type": "code",
      "source": [
        "columns_to_plot = [\"lead_time\", \"previous_cancellations\", \"hotel\"]\n",
        "\n",
        "fig, ax = plt.subplots ()\n",
        "for t, data in df_hotels_train[columns_to_plot].groupby(columns_to_plot[2]):\n",
        "  ax.scatter(data[columns_to_plot[0]], data[columns_to_plot[1]], label=t, alpha=0.6)\n",
        "\n",
        "plt.xlabel(columns_to_plot[0])\n",
        "plt.ylabel(columns_to_plot[1])\n",
        "plt.legend()\n",
        "plt.show()"
      ],
      "metadata": {
        "id": "VKIX98v3NvmW"
      },
      "execution_count": null,
      "outputs": []
    },
    {
      "cell_type": "code",
      "source": [
        "columns_to_plot = [\"stays_in_weekend_nights\", \"lead_time\", \"is_canceled\"]\n",
        "\n",
        "fig, ax = plt.subplots()\n",
        "for t, data in df_hotels_train[columns_to_plot].groupby(columns_to_plot[2]):\n",
        "  ax.scatter(data[columns_to_plot[0]], data[columns_to_plot[1]], label=t, alpha=0.6)\n",
        "\n",
        "plt.xlabel(columns_to_plot[0])\n",
        "plt.ylabel(columns_to_plot[1])\n",
        "plt.legend()\n",
        "plt.show()"
      ],
      "metadata": {
        "id": "bDM6lZEvNxZc"
      },
      "execution_count": null,
      "outputs": []
    },
    {
      "cell_type": "code",
      "source": [
        "columns_to_plot = [\"days_in_waiting_list\", \"total_of_special_requests\", \"is_canceled\"]\n",
        "\n",
        "fig, ax = plt.subplots()\n",
        "for t, data in df_hotels_train[columns_to_plot].groupby(columns_to_plot[2]):\n",
        "  ax.scatter(data[columns_to_plot[0]], data[columns_to_plot[1]], label=t, alpha=0.6)\n",
        "\n",
        "plt.xlabel(columns_to_plot[0])\n",
        "plt.ylabel(columns_to_plot[1])\n",
        "plt.legend()\n",
        "plt.show()"
      ],
      "metadata": {
        "id": "7Nk3a46TN05-"
      },
      "execution_count": null,
      "outputs": []
    },
    {
      "cell_type": "code",
      "source": [
        "columns_to_plot = [\"days_in_waiting_list\", \"total_of_special_requests\", \"is_repeated_guest\"]\n",
        "\n",
        "fig, ax = plt.subplots()\n",
        "for t, data in df_hotels_train[columns_to_plot].groupby(columns_to_plot[2]):\n",
        "  ax.scatter(data[columns_to_plot[0]], data[columns_to_plot[1]], label=t, alpha=0.6)\n",
        "\n",
        "plt.xlabel(columns_to_plot[0])\n",
        "plt.ylabel(columns_to_plot[1])\n",
        "plt.legend()\n",
        "plt.show()"
      ],
      "metadata": {
        "id": "RWbWfLsuN1eI"
      },
      "execution_count": null,
      "outputs": []
    },
    {
      "cell_type": "markdown",
      "source": [
        "##Datos Faltantes"
      ],
      "metadata": {
        "id": "W0K5Fi2fge6f"
      }
    },
    {
      "cell_type": "markdown",
      "source": [
        "Analizar la presencia de datos faltantes en el dataset"
      ],
      "metadata": {
        "id": "0ZBEc2xmhPst"
      }
    },
    {
      "cell_type": "code",
      "source": [
        "datos_faltantes = df_hotels_train.isnull().sum()\n",
        "print(datos_faltantes)"
      ],
      "metadata": {
        "id": "65zkhruZhbmk"
      },
      "execution_count": null,
      "outputs": []
    },
    {
      "cell_type": "markdown",
      "source": [
        "Obeservamos que en las columnas de: country, children, agent y company tenemos datos faltantes (por datos faltantes nos referimos a los datos que aparecen como NaN)"
      ],
      "metadata": {
        "id": "S6XTySAshu9V"
      }
    },
    {
      "cell_type": "markdown",
      "source": [
        "Realizamos los graficos correspondientes a dichos datos faltantes"
      ],
      "metadata": {
        "id": "yRJmuirSiArH"
      }
    },
    {
      "cell_type": "code",
      "source": [
        "datos_faltantes = df_hotels_train['children'].isnull().sum()\n",
        "\n",
        "labels = ['Datos faltantes', 'Datos presentes']\n",
        "sizes = [datos_faltantes, len(df_hotels_train) - datos_faltantes]\n",
        "plt.pie(sizes, labels=labels, autopct='%1.3f%%', startangle=90)\n",
        "\n",
        "plt.title('Datos faltantes en la columna children')\n",
        "\n",
        "plt.show()\n",
        "\n",
        "\n"
      ],
      "metadata": {
        "id": "uHui-AMXgbpO"
      },
      "execution_count": null,
      "outputs": []
    },
    {
      "cell_type": "code",
      "source": [
        "datos_faltantes = df_hotels_train['country'].isnull().sum()\n",
        "\n",
        "labels = ['Datos faltantes', 'Datos presentes']\n",
        "sizes = [datos_faltantes, len(df_hotels_train) - datos_faltantes]\n",
        "plt.pie(sizes, labels=labels, autopct='%1.3f%%', startangle=90)\n",
        "\n",
        "plt.title('Datos faltantes en la columna country')\n",
        "\n",
        "plt.show()"
      ],
      "metadata": {
        "id": "khja_BKPguBx"
      },
      "execution_count": null,
      "outputs": []
    },
    {
      "cell_type": "code",
      "source": [
        "datos_faltantes = df_hotels_train['agent'].isnull().sum()\n",
        "\n",
        "labels = ['Datos faltantes', 'Datos presentes']\n",
        "sizes = [datos_faltantes, len(df_hotels_train) - datos_faltantes]\n",
        "plt.pie(sizes, labels=labels, autopct='%1.3f%%', startangle=90)\n",
        "\n",
        "plt.title('Datos faltantes en la columna agent')\n",
        "\n",
        "plt.show()"
      ],
      "metadata": {
        "id": "ZV1_QpbNgr01"
      },
      "execution_count": null,
      "outputs": []
    },
    {
      "cell_type": "code",
      "source": [
        "datos_faltantes = df_hotels_train['company'].isnull().sum()\n",
        "\n",
        "labels = ['Datos faltantes', 'Datos presentes']\n",
        "sizes = [datos_faltantes, len(df_hotels_train) - datos_faltantes]\n",
        "plt.pie(sizes, labels=labels, autopct='%1.3f%%', startangle=90)\n",
        "\n",
        "plt.title('Datos faltantes en la columna company')\n",
        "\n",
        "plt.show()"
      ],
      "metadata": {
        "id": "9pVCK52Rgn6F"
      },
      "execution_count": null,
      "outputs": []
    },
    {
      "cell_type": "markdown",
      "source": [
        "Decision sobre los datos faltantes "
      ],
      "metadata": {
        "id": "NBo5FtfZioCM"
      }
    },
    {
      "cell_type": "markdown",
      "source": [
        "La columna company tiene una cantidad de datos faltantes demasiado alto, por lo tanto tenemos poca informacion sobre dicha columna.\n",
        "Por lo que procederemos a eliminar esta columna"
      ],
      "metadata": {
        "id": "n_d9rRxkjPFp"
      }
    },
    {
      "cell_type": "code",
      "source": [
        "#Eliminacion de company\n",
        "df_hotels_train = df_hotels_train.drop(['company'], axis =1)"
      ],
      "metadata": {
        "id": "UVv-ptMBj3-l"
      },
      "execution_count": null,
      "outputs": []
    },
    {
      "cell_type": "markdown",
      "source": [
        "Las columnas children, agent y country tienen una cantidad mucho menor de datos faltantes (en el caso de agent la que tiene el porcentaje da datos faltantes mas alto) no nos parece bien eliminarlas, entonces vamos a tomar una moda y rellenarlas.\n",
        "Tomaremos el valor que mas se repite como moda y lo usaremos para rellenas las ccolumnas de datos faltantes\n",
        "Esta decision se debe a que conocemos bastante de dichas columnas, por lo tanto la decision mas acertada nos parece reemplazar los datos."
      ],
      "metadata": {
        "id": "ZI7XlRGNkWPz"
      }
    },
    {
      "cell_type": "code",
      "source": [
        "#Country\n",
        "df_hotels_train['country'].fillna('PRT', inplace=True)"
      ],
      "metadata": {
        "id": "nwLPchBDk5X_"
      },
      "execution_count": null,
      "outputs": []
    },
    {
      "cell_type": "code",
      "source": [
        "#Children\n",
        "df_hotels_train['children'].fillna(0, inplace=True)"
      ],
      "metadata": {
        "id": "gHF89c60k_JK"
      },
      "execution_count": null,
      "outputs": []
    },
    {
      "cell_type": "code",
      "source": [
        "#Agent\n",
        "df_hotels_train['agent'].fillna(9.0, inplace=True)"
      ],
      "metadata": {
        "id": "DA-WnnO-lJuJ"
      },
      "execution_count": null,
      "outputs": []
    },
    {
      "cell_type": "code",
      "source": [
        "datos_despues_de_rellenarlos = df_hotels_train.isnull().sum()\n",
        "print(datos_despues_de_rellenarlos)"
      ],
      "metadata": {
        "id": "c-7854d1mmdz"
      },
      "execution_count": null,
      "outputs": []
    },
    {
      "cell_type": "markdown",
      "source": [
        "Vemos que despues de realizar las imputaciones de los datos (y la eliminacion de company) no tenemos datos faltantes en nuestro dataset"
      ],
      "metadata": {
        "id": "uq_sZqP_o9uF"
      }
    },
    {
      "cell_type": "markdown",
      "source": [
        "Graficos una vez realizada las imputaciones"
      ],
      "metadata": {
        "id": "jK96ZX6PpXHl"
      }
    },
    {
      "cell_type": "code",
      "source": [
        "#Children\n",
        "df_hotels_train['children'].value_counts().plot(kind='bar')"
      ],
      "metadata": {
        "id": "2evPQku3pamd"
      },
      "execution_count": null,
      "outputs": []
    },
    {
      "cell_type": "markdown",
      "source": [
        "La variable children no tiene cambios en su grafico (debido a que tenemos un porcentaje bajisimo de datos faltantes)"
      ],
      "metadata": {
        "id": "uNHkofmOr1Ia"
      }
    },
    {
      "cell_type": "code",
      "source": [
        "#Countrys\n",
        "graf_de_paises = df_hotels_train['country'].value_counts().head(20)\n",
        "\n",
        "graf_de_paises.plot(kind='bar')"
      ],
      "metadata": {
        "id": "3PKZ4QHbsRav"
      },
      "execution_count": null,
      "outputs": []
    },
    {
      "cell_type": "markdown",
      "source": [
        "Como vemos en el grafico, no notamos un incremento en paises, debido a que los datos faltantes tambien es muy bajo como para notar una alteracion en la distribucion de datos"
      ],
      "metadata": {
        "id": "_tN5ffrJu7pN"
      }
    },
    {
      "cell_type": "code",
      "source": [
        "#Agent\n",
        "graf_de_paises = df_hotels_train['agent'].value_counts().head(20)\n",
        "graf_de_paises.plot(kind='bar')"
      ],
      "metadata": {
        "id": "5PMyoNdLuoCB"
      },
      "execution_count": null,
      "outputs": []
    },
    {
      "cell_type": "markdown",
      "source": [
        "Como vemos en en esa distribucion, si notamos un gran cambio de acuerdo a la original ya que el agent 9.0 pasa de tener 16 mil a casi 25 mil.\n",
        "Era de esperarse, ya que rellenamos una gran parte del dataset, por lo tanto la distribucion tenia que subir."
      ],
      "metadata": {
        "id": "kvrmpDBavKPT"
      }
    }
  ],
  "metadata": {
    "colab": {
      "provenance": [],
      "include_colab_link": true
    },
    "kernelspec": {
      "display_name": "Python 3",
      "name": "python3"
    },
    "language_info": {
      "name": "python"
    }
  },
  "nbformat": 4,
  "nbformat_minor": 0
}