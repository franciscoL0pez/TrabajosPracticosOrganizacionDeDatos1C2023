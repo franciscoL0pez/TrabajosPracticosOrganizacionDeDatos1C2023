{
 "cells": [
  {
   "cell_type": "markdown",
   "id": "c901c56f",
   "metadata": {},
   "source": [
    "# IMPORTS"
   ]
  },
  {
   "cell_type": "code",
   "execution_count": 14,
   "id": "dee734fc",
   "metadata": {},
   "outputs": [],
   "source": [
    "import pandas as pd\n",
    "import numpy as np\n",
    "import joblib\n",
    "from sklearn.compose import make_column_transformer\n",
    "from sklearn.preprocessing import StandardScaler, MinMaxScaler, OneHotEncoder\n",
    "from sklearn.metrics import f1_score\n",
    "import tensorflow as tf\n",
    "\n",
    "import warnings\n",
    "warnings.filterwarnings(\"ignore\")"
   ]
  },
  {
   "cell_type": "markdown",
   "id": "cfd4d8c4",
   "metadata": {},
   "source": [
    "# DATA LOAD"
   ]
  },
  {
   "cell_type": "code",
   "execution_count": 2,
   "id": "7bfa2ee0",
   "metadata": {},
   "outputs": [],
   "source": [
    "df_hotels_test = pd.read_csv('hotels_test.csv')"
   ]
  },
  {
   "cell_type": "code",
   "execution_count": 3,
   "id": "52fcfcaf",
   "metadata": {},
   "outputs": [
    {
     "data": {
      "text/plain": [
       "26535"
      ]
     },
     "execution_count": 3,
     "metadata": {},
     "output_type": "execute_result"
    }
   ],
   "source": [
    "len(df_hotels_test)"
   ]
  },
  {
   "cell_type": "code",
   "execution_count": 4,
   "id": "c257bd54",
   "metadata": {},
   "outputs": [],
   "source": [
    "df_hotels_test = df_hotels_test.drop(['reservation_status_date'], axis=1)"
   ]
  },
  {
   "cell_type": "code",
   "execution_count": 5,
   "id": "3310058c",
   "metadata": {},
   "outputs": [],
   "source": [
    "df_hotels_test['hotel'] = df_hotels_test['hotel'].astype('string')\n",
    "df_hotels_test['arrival_date_month'] = df_hotels_test['arrival_date_month'].astype('string')\n",
    "df_hotels_test['meal'] = df_hotels_test['meal'].astype('string')\n",
    "df_hotels_test['country'] = df_hotels_test['country'].astype('string')\n",
    "df_hotels_test['id'] = df_hotels_test['id'].astype('string')\n",
    "df_hotels_test['customer_type'] = df_hotels_test['customer_type'].astype('string')\n",
    "df_hotels_test['market_segment'] = df_hotels_test['market_segment'].astype('string')\n",
    "df_hotels_test['distribution_channel'] = df_hotels_test['distribution_channel'].astype('string')\n",
    "df_hotels_test['reserved_room_type'] = df_hotels_test['reserved_room_type'].astype('string')\n",
    "df_hotels_test['assigned_room_type'] = df_hotels_test['assigned_room_type'].astype('string')\n",
    "df_hotels_test['deposit_type'] = df_hotels_test['deposit_type'].astype('string')"
   ]
  },
  {
   "cell_type": "markdown",
   "id": "10047ac9",
   "metadata": {},
   "source": [
    "# FILLNA"
   ]
  },
  {
   "cell_type": "code",
   "execution_count": 6,
   "id": "bfac9ecf",
   "metadata": {},
   "outputs": [],
   "source": [
    "df_hotels_test['company'].fillna(-9999, inplace=True)\n",
    "df_hotels_test['agent'].fillna(-9999, inplace=True)\n",
    "df_hotels_test['country'].fillna('PRT', inplace=True)\n",
    "df_hotels_test['children'].fillna(0, inplace=True)"
   ]
  },
  {
   "cell_type": "markdown",
   "id": "bc7e84b8",
   "metadata": {},
   "source": [
    "# ENCODING"
   ]
  },
  {
   "cell_type": "code",
   "execution_count": 7,
   "id": "bc248e54",
   "metadata": {},
   "outputs": [],
   "source": [
    "df_submit = df_hotels_test[['id']]\n",
    "df_hotels_test.drop(['id'], axis='columns', inplace=True)"
   ]
  },
  {
   "cell_type": "code",
   "execution_count": 8,
   "id": "405318a8",
   "metadata": {},
   "outputs": [],
   "source": [
    "df_hotels_test_to_encode = df_hotels_test.copy()\n",
    "transformer = joblib.load('tr.joblib')\n",
    "hotels_test_encoded = transformer.transform(df_hotels_test_to_encode)"
   ]
  },
  {
   "cell_type": "code",
   "execution_count": 9,
   "id": "4794ef9b",
   "metadata": {},
   "outputs": [],
   "source": [
    "df_hotels_test_encoded = pd.DataFrame(\n",
    "    hotels_test_encoded.toarray(), \n",
    "    columns=transformer.get_feature_names_out()\n",
    ")"
   ]
  },
  {
   "cell_type": "code",
   "execution_count": 10,
   "id": "755264fe",
   "metadata": {},
   "outputs": [],
   "source": [
    "#Mostramos las primera 10 columnas de country, ya que el resto tiene una cantidad bajisima de datos y no aportan demasiado\n",
    "country_cols = df_hotels_test_encoded.columns[df_hotels_test_encoded.columns.str.startswith('country_')]\n",
    "selected_columns = (df_hotels_test_encoded[country_cols] != 0).sum()\n",
    "#top_cols = selected_columns.nlargest(10).index\n",
    "top_cols = ['country_PRT', 'country_GBR', 'country_FRA', 'country_ESP', 'country_DEU', 'country_ITA', 'country_IRL', 'country_BRA', 'country_BEL', 'country_USA']\n",
    "other_countries = [col for col in country_cols if col not in top_cols]\n",
    "df_hotels_test_encoded['country_other'] = df_hotels_test_encoded[other_countries].sum(axis=1)\n",
    "df_hotels_test_encoded.drop(other_countries, axis=1, inplace=True)"
   ]
  },
  {
   "cell_type": "code",
   "execution_count": 11,
   "id": "93a11e31",
   "metadata": {},
   "outputs": [],
   "source": [
    "x_submit = df_hotels_test_encoded"
   ]
  },
  {
   "cell_type": "code",
   "execution_count": 12,
   "id": "a6cea146",
   "metadata": {},
   "outputs": [],
   "source": [
    "#Escalamos los datos de train de nuestro data set\n",
    "scaler = StandardScaler()\n",
    "x_submit_scaled = scaler.fit_transform(x_submit)"
   ]
  },
  {
   "cell_type": "markdown",
   "id": "100f991c",
   "metadata": {},
   "source": [
    "# PREDICTIONS"
   ]
  },
  {
   "cell_type": "code",
   "execution_count": 19,
   "id": "8d82ce1d",
   "metadata": {},
   "outputs": [],
   "source": [
    "nn = tf.keras.models.load_model(\"test.pkl\")"
   ]
  },
  {
   "cell_type": "code",
   "execution_count": 32,
   "id": "c789fd10",
   "metadata": {},
   "outputs": [
    {
     "name": "stdout",
     "output_type": "stream",
     "text": [
      "830/830 [==============================] - 0s 511us/step\n"
     ]
    }
   ],
   "source": [
    "y_pred_nn = nn.predict(x_submit_scaled)\n",
    "y_pred_nn = np.where(y_pred_nn>0.4,1,0) #Seteamos un corte en los datos para determinar si cancelo o no "
   ]
  },
  {
   "cell_type": "code",
   "execution_count": 36,
   "id": "2d2d3909",
   "metadata": {},
   "outputs": [
    {
     "data": {
      "text/plain": [
       "array([1, 1, 0, ..., 1, 1, 1])"
      ]
     },
     "execution_count": 36,
     "metadata": {},
     "output_type": "execute_result"
    }
   ],
   "source": [
    "y_pred_nn.flatten()"
   ]
  },
  {
   "cell_type": "markdown",
   "id": "1ee1b76b",
   "metadata": {},
   "source": [
    "# SUBMIT"
   ]
  },
  {
   "cell_type": "code",
   "execution_count": 39,
   "id": "9d8d01df",
   "metadata": {},
   "outputs": [],
   "source": [
    "df_submit_nn = pd.DataFrame({'id': df_submit['id'],'is_canceled':y_pred_nn.flatten()})\n",
    "df_submit_nn.to_csv('Submit_nn.csv', index = False)"
   ]
  },
  {
   "cell_type": "markdown",
   "id": "e0740014",
   "metadata": {},
   "source": [
    "df_submit_rf = pd.DataFrame({'id': df_submit['id'],'is_canceled':y_pred_rf})\n",
    "df_submit_rf.to_csv('Submit_rf.csv',index = False)"
   ]
  },
  {
   "cell_type": "markdown",
   "id": "b5651651",
   "metadata": {},
   "source": [
    "df_submit_knn = pd.DataFrame({'id': df_submit['id'],'is_canceled':y_pred_knn})\n",
    "df_submit_knn.to_csv('Submit_knn.csv',index = False)"
   ]
  },
  {
   "cell_type": "markdown",
   "id": "ae6ece38",
   "metadata": {},
   "source": [
    "df_submit_xgb = pd.DataFrame({'id': df_submit['id'], 'is_canceled': y_pred_xgb})\n",
    "df_submit_xgb.to_csv('Submit_xgb.csv', index = False)"
   ]
  },
  {
   "cell_type": "code",
   "execution_count": null,
   "id": "7d73eff4",
   "metadata": {},
   "outputs": [],
   "source": []
  },
  {
   "cell_type": "code",
   "execution_count": null,
   "id": "31f0f0e4",
   "metadata": {},
   "outputs": [],
   "source": []
  }
 ],
 "metadata": {
  "kernelspec": {
   "display_name": "Python 3 (ipykernel)",
   "language": "python",
   "name": "python3"
  },
  "language_info": {
   "codemirror_mode": {
    "name": "ipython",
    "version": 3
   },
   "file_extension": ".py",
   "mimetype": "text/x-python",
   "name": "python",
   "nbconvert_exporter": "python",
   "pygments_lexer": "ipython3",
   "version": "3.10.9"
  }
 },
 "nbformat": 4,
 "nbformat_minor": 5
}
