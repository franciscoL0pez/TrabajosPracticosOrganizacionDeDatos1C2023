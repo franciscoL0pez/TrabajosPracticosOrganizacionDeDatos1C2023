{
 "cells": [
  {
   "cell_type": "markdown",
   "metadata": {
    "id": "AjquUrdmJJIg"
   },
   "source": [
    "##Librerias"
   ]
  },
  {
   "cell_type": "code",
   "execution_count": 42,
   "metadata": {
    "id": "j06w1QqlJLiY"
   },
   "outputs": [],
   "source": [
    "import math\n",
    "import matplotlib.pyplot as plt\n",
    "import numpy as np\n",
    "import pandas as pd\n",
    "from pandas.plotting import scatter_matrix\n",
    "from sklearn import tree\n",
    "from sklearn.compose import make_column_transformer\n",
    "from sklearn.datasets import make_classification\n",
    "from sklearn.ensemble import RandomForestClassifier\n",
    "from sklearn.metrics import (accuracy_score, classification_report,\n",
    "                             confusion_matrix, f1_score, precision_score,\n",
    "                             recall_score, make_scorer)\n",
    "from sklearn.model_selection import GridSearchCV, train_test_split, StratifiedKFold, KFold, RandomizedSearchCV\n",
    "from sklearn.neighbors import KNeighborsClassifier\n",
    "from sklearn.preprocessing import MinMaxScaler, OneHotEncoder, OrdinalEncoder, StandardScaler\n",
    "from sklearn.svm import SVC\n",
    "import seaborn as sns\n",
    "import sklearn as sk\n",
    "import warnings\n",
    "warnings.simplefilter(action='ignore', category=FutureWarning)\n",
    "warnings.simplefilter(action='ignore', category=UserWarning)"
   ]
  },
  {
   "cell_type": "markdown",
   "metadata": {
    "id": "3OOn8nICCW6r"
   },
   "source": [
    "##Realizamos el tratamiento de las variables"
   ]
  },
  {
   "cell_type": "markdown",
   "metadata": {
    "colab": {
     "base_uri": "https://localhost:8080/"
    },
    "id": "KJJLi5enCTUS",
    "outputId": "550d684c-6e06-4ffa-dedf-bfdf2c9c9a8e"
   },
   "source": [
    "from google.colab import drive\n",
    "drive.mount('/content/drive')"
   ]
  },
  {
   "cell_type": "markdown",
   "metadata": {
    "id": "LDniZH_-Culx"
   },
   "source": [
    "df_hotels_train = pd.read_csv('drive/MyDrive/hotels_train.csv')"
   ]
  },
  {
   "cell_type": "code",
   "execution_count": 2,
   "metadata": {},
   "outputs": [],
   "source": [
    "df_hotels_train = pd.read_csv('hotels_train.csv')"
   ]
  },
  {
   "cell_type": "code",
   "execution_count": 3,
   "metadata": {
    "colab": {
     "base_uri": "https://localhost:8080/",
     "height": 306
    },
    "id": "D3-rrHE7Cu7O",
    "outputId": "08749a90-b373-497d-9656-a0f54ea689a3"
   },
   "outputs": [
    {
     "data": {
      "text/html": [
       "<div>\n",
       "<style scoped>\n",
       "    .dataframe tbody tr th:only-of-type {\n",
       "        vertical-align: middle;\n",
       "    }\n",
       "\n",
       "    .dataframe tbody tr th {\n",
       "        vertical-align: top;\n",
       "    }\n",
       "\n",
       "    .dataframe thead th {\n",
       "        text-align: right;\n",
       "    }\n",
       "</style>\n",
       "<table border=\"1\" class=\"dataframe\">\n",
       "  <thead>\n",
       "    <tr style=\"text-align: right;\">\n",
       "      <th></th>\n",
       "      <th>hotel</th>\n",
       "      <th>lead_time</th>\n",
       "      <th>arrival_date_year</th>\n",
       "      <th>arrival_date_month</th>\n",
       "      <th>arrival_date_week_number</th>\n",
       "      <th>arrival_date_day_of_month</th>\n",
       "      <th>stays_in_weekend_nights</th>\n",
       "      <th>stays_in_week_nights</th>\n",
       "      <th>adults</th>\n",
       "      <th>children</th>\n",
       "      <th>...</th>\n",
       "      <th>company</th>\n",
       "      <th>days_in_waiting_list</th>\n",
       "      <th>customer_type</th>\n",
       "      <th>adr</th>\n",
       "      <th>required_car_parking_spaces</th>\n",
       "      <th>total_of_special_requests</th>\n",
       "      <th>reservation_status</th>\n",
       "      <th>reservation_status_date</th>\n",
       "      <th>id</th>\n",
       "      <th>is_canceled</th>\n",
       "    </tr>\n",
       "  </thead>\n",
       "  <tbody>\n",
       "    <tr>\n",
       "      <th>0</th>\n",
       "      <td>City Hotel</td>\n",
       "      <td>49</td>\n",
       "      <td>2016</td>\n",
       "      <td>September</td>\n",
       "      <td>37</td>\n",
       "      <td>5</td>\n",
       "      <td>1</td>\n",
       "      <td>2</td>\n",
       "      <td>1</td>\n",
       "      <td>0.0</td>\n",
       "      <td>...</td>\n",
       "      <td>NaN</td>\n",
       "      <td>0</td>\n",
       "      <td>Transient</td>\n",
       "      <td>115.5</td>\n",
       "      <td>0</td>\n",
       "      <td>1</td>\n",
       "      <td>Canceled</td>\n",
       "      <td>2016-08-25</td>\n",
       "      <td>7aa4cc6b-b92c-4061-b21d-4f9e0cac4689</td>\n",
       "      <td>1</td>\n",
       "    </tr>\n",
       "    <tr>\n",
       "      <th>1</th>\n",
       "      <td>Resort Hotel</td>\n",
       "      <td>4</td>\n",
       "      <td>2015</td>\n",
       "      <td>October</td>\n",
       "      <td>44</td>\n",
       "      <td>31</td>\n",
       "      <td>0</td>\n",
       "      <td>1</td>\n",
       "      <td>2</td>\n",
       "      <td>0.0</td>\n",
       "      <td>...</td>\n",
       "      <td>NaN</td>\n",
       "      <td>0</td>\n",
       "      <td>Transient</td>\n",
       "      <td>42.0</td>\n",
       "      <td>1</td>\n",
       "      <td>0</td>\n",
       "      <td>Check-Out</td>\n",
       "      <td>2015-11-01</td>\n",
       "      <td>b1428f80-c56c-4ae4-91a9-6962edae08b1</td>\n",
       "      <td>0</td>\n",
       "    </tr>\n",
       "  </tbody>\n",
       "</table>\n",
       "<p>2 rows × 33 columns</p>\n",
       "</div>"
      ],
      "text/plain": [
       "          hotel  lead_time  arrival_date_year arrival_date_month  \\\n",
       "0    City Hotel         49               2016          September   \n",
       "1  Resort Hotel          4               2015            October   \n",
       "\n",
       "   arrival_date_week_number  arrival_date_day_of_month  \\\n",
       "0                        37                          5   \n",
       "1                        44                         31   \n",
       "\n",
       "   stays_in_weekend_nights  stays_in_week_nights  adults  children  ...  \\\n",
       "0                        1                     2       1       0.0  ...   \n",
       "1                        0                     1       2       0.0  ...   \n",
       "\n",
       "   company days_in_waiting_list customer_type    adr  \\\n",
       "0      NaN                    0     Transient  115.5   \n",
       "1      NaN                    0     Transient   42.0   \n",
       "\n",
       "  required_car_parking_spaces  total_of_special_requests  reservation_status  \\\n",
       "0                           0                          1            Canceled   \n",
       "1                           1                          0           Check-Out   \n",
       "\n",
       "   reservation_status_date                                    id is_canceled  \n",
       "0               2016-08-25  7aa4cc6b-b92c-4061-b21d-4f9e0cac4689           1  \n",
       "1               2015-11-01  b1428f80-c56c-4ae4-91a9-6962edae08b1           0  \n",
       "\n",
       "[2 rows x 33 columns]"
      ]
     },
     "execution_count": 3,
     "metadata": {},
     "output_type": "execute_result"
    }
   ],
   "source": [
    "df_hotels_train.head(2)"
   ]
  },
  {
   "cell_type": "code",
   "execution_count": 4,
   "metadata": {
    "colab": {
     "base_uri": "https://localhost:8080/"
    },
    "id": "Bwpp1z_hCvOh",
    "outputId": "ae400ce7-c33c-46db-b1e7-b094436a71b3"
   },
   "outputs": [
    {
     "data": {
      "text/plain": [
       "hotel                              object\n",
       "lead_time                           int64\n",
       "arrival_date_year                   int64\n",
       "arrival_date_month                 object\n",
       "arrival_date_week_number            int64\n",
       "arrival_date_day_of_month           int64\n",
       "stays_in_weekend_nights             int64\n",
       "stays_in_week_nights                int64\n",
       "adults                              int64\n",
       "children                          float64\n",
       "babies                              int64\n",
       "meal                               object\n",
       "country                            object\n",
       "market_segment                     object\n",
       "distribution_channel               object\n",
       "is_repeated_guest                   int64\n",
       "previous_cancellations              int64\n",
       "previous_bookings_not_canceled      int64\n",
       "reserved_room_type                 object\n",
       "assigned_room_type                 object\n",
       "booking_changes                     int64\n",
       "deposit_type                       object\n",
       "agent                             float64\n",
       "company                           float64\n",
       "days_in_waiting_list                int64\n",
       "customer_type                      object\n",
       "adr                               float64\n",
       "required_car_parking_spaces         int64\n",
       "total_of_special_requests           int64\n",
       "id                                 object\n",
       "is_canceled                         int64\n",
       "dtype: object"
      ]
     },
     "execution_count": 4,
     "metadata": {},
     "output_type": "execute_result"
    }
   ],
   "source": [
    "#Eliminamos las columnas de reservation_status y reservation_status_date para evitar confusiones\n",
    "df_hotels_train = df_hotels_train.drop(['reservation_status','reservation_status_date'], axis =1) #->Desmarcar al abrir el archivo\n",
    "df_hotels_train.dtypes"
   ]
  },
  {
   "cell_type": "code",
   "execution_count": 5,
   "metadata": {
    "id": "MnkGgXHxCvsA"
   },
   "outputs": [],
   "source": [
    "df_hotels_train['hotel'] = df_hotels_train['hotel'].astype('string')\n",
    "df_hotels_train['arrival_date_month'] = df_hotels_train['arrival_date_month'].astype('string')\n",
    "df_hotels_train['meal'] = df_hotels_train['meal'].astype('string')\n",
    "df_hotels_train['country'] = df_hotels_train['country'].astype('string')\n",
    "df_hotels_train['id'] = df_hotels_train['id'].astype('string')\n",
    "df_hotels_train['customer_type'] = df_hotels_train['customer_type'].astype('string')\n",
    "df_hotels_train['market_segment'] = df_hotels_train['market_segment'].astype('string')\n",
    "df_hotels_train['distribution_channel'] = df_hotels_train['distribution_channel'].astype('string')\n",
    "df_hotels_train['reserved_room_type'] = df_hotels_train['reserved_room_type'].astype('string')\n",
    "df_hotels_train['assigned_room_type'] = df_hotels_train['assigned_room_type'].astype('string')\n",
    "df_hotels_train['deposit_type'] = df_hotels_train['deposit_type'].astype('string')"
   ]
  },
  {
   "cell_type": "markdown",
   "metadata": {
    "id": "W44Yo-SfDpJ3"
   },
   "source": [
    "Retiramos los nulos"
   ]
  },
  {
   "cell_type": "code",
   "execution_count": 6,
   "metadata": {
    "id": "J3nelv_nCwJe"
   },
   "outputs": [],
   "source": [
    "#Company\n",
    "df_hotels_train['company'].fillna(-9999, inplace=True)"
   ]
  },
  {
   "cell_type": "code",
   "execution_count": 7,
   "metadata": {
    "id": "Lnm3sVFgDtAu"
   },
   "outputs": [],
   "source": [
    "#Agent\n",
    "df_hotels_train['agent'].fillna(-9999, inplace=True)"
   ]
  },
  {
   "cell_type": "code",
   "execution_count": 8,
   "metadata": {
    "id": "zvjsw1dBDu0u"
   },
   "outputs": [],
   "source": [
    "#Country\n",
    "df_hotels_train['country'].fillna('PRT', inplace=True)"
   ]
  },
  {
   "cell_type": "code",
   "execution_count": 9,
   "metadata": {
    "id": "Q6bMvYh8Dwgx"
   },
   "outputs": [],
   "source": [
    "#Children\n",
    "df_hotels_train['children'].fillna(0, inplace=True)"
   ]
  },
  {
   "cell_type": "markdown",
   "metadata": {
    "id": "vO6eiYGXEAxV"
   },
   "source": [
    "Analizamos los outliers"
   ]
  },
  {
   "cell_type": "code",
   "execution_count": 10,
   "metadata": {
    "colab": {
     "base_uri": "https://localhost:8080/",
     "height": 419
    },
    "id": "Z9ev6iV_Ka22",
    "outputId": "f84b730f-cc3f-4f8c-dfb5-1581512cf9b7"
   },
   "outputs": [
    {
     "data": {
      "text/html": [
       "<div>\n",
       "<style scoped>\n",
       "    .dataframe tbody tr th:only-of-type {\n",
       "        vertical-align: middle;\n",
       "    }\n",
       "\n",
       "    .dataframe tbody tr th {\n",
       "        vertical-align: top;\n",
       "    }\n",
       "\n",
       "    .dataframe thead th {\n",
       "        text-align: right;\n",
       "    }\n",
       "</style>\n",
       "<table border=\"1\" class=\"dataframe\">\n",
       "  <thead>\n",
       "    <tr style=\"text-align: right;\">\n",
       "      <th></th>\n",
       "      <th>z_lead_time</th>\n",
       "    </tr>\n",
       "  </thead>\n",
       "  <tbody>\n",
       "    <tr>\n",
       "      <th>15</th>\n",
       "      <td>3.186066</td>\n",
       "    </tr>\n",
       "    <tr>\n",
       "      <th>51</th>\n",
       "      <td>3.402834</td>\n",
       "    </tr>\n",
       "    <tr>\n",
       "      <th>95</th>\n",
       "      <td>3.086713</td>\n",
       "    </tr>\n",
       "    <tr>\n",
       "      <th>426</th>\n",
       "      <td>3.691859</td>\n",
       "    </tr>\n",
       "    <tr>\n",
       "      <th>576</th>\n",
       "      <td>4.640223</td>\n",
       "    </tr>\n",
       "    <tr>\n",
       "      <th>...</th>\n",
       "      <td>...</td>\n",
       "    </tr>\n",
       "    <tr>\n",
       "      <th>61579</th>\n",
       "      <td>3.655731</td>\n",
       "    </tr>\n",
       "    <tr>\n",
       "      <th>61695</th>\n",
       "      <td>3.213162</td>\n",
       "    </tr>\n",
       "    <tr>\n",
       "      <th>61761</th>\n",
       "      <td>3.466059</td>\n",
       "    </tr>\n",
       "    <tr>\n",
       "      <th>61783</th>\n",
       "      <td>3.086713</td>\n",
       "    </tr>\n",
       "    <tr>\n",
       "      <th>61790</th>\n",
       "      <td>3.845404</td>\n",
       "    </tr>\n",
       "  </tbody>\n",
       "</table>\n",
       "<p>732 rows × 1 columns</p>\n",
       "</div>"
      ],
      "text/plain": [
       "       z_lead_time\n",
       "15        3.186066\n",
       "51        3.402834\n",
       "95        3.086713\n",
       "426       3.691859\n",
       "576       4.640223\n",
       "...            ...\n",
       "61579     3.655731\n",
       "61695     3.213162\n",
       "61761     3.466059\n",
       "61783     3.086713\n",
       "61790     3.845404\n",
       "\n",
       "[732 rows x 1 columns]"
      ]
     },
     "execution_count": 10,
     "metadata": {},
     "output_type": "execute_result"
    }
   ],
   "source": [
    "#columnas:(lead_time, stays_in_weekend_nights, stays_in_week_nights, adults, children, babies, previous_cancellations, previous_bookings_not_canceled, booking_changes, days_in_waiting_list, required_car_parking_spaces)\n",
    "media_lead_time=np.mean(df_hotels_train.lead_time)\n",
    "std_lead_time=np.std(df_hotels_train.lead_time)\n",
    "df_zscore = pd.DataFrame()\n",
    "df_zscore['z_lead_time']=(df_hotels_train.lead_time - media_lead_time)/std_lead_time\n",
    "df_zscore[df_zscore['z_lead_time']>3]\n"
   ]
  },
  {
   "cell_type": "code",
   "execution_count": 11,
   "metadata": {
    "colab": {
     "base_uri": "https://localhost:8080/"
    },
    "id": "Cej_pCnpECHS",
    "outputId": "ff683538-40cf-4d91-c450-c350d529cfba"
   },
   "outputs": [
    {
     "name": "stderr",
     "output_type": "stream",
     "text": [
      "/var/folders/2g/pz89x6gd4_z44j2mr8rthvmh0000gn/T/ipykernel_12171/3445656125.py:3: SettingWithCopyWarning: \n",
      "A value is trying to be set on a copy of a slice from a DataFrame\n",
      "\n",
      "See the caveats in the documentation: https://pandas.pydata.org/pandas-docs/stable/user_guide/indexing.html#returning-a-view-versus-a-copy\n",
      "  df_hotels_train.lead_time[i] = round(media_lead_time)\n"
     ]
    }
   ],
   "source": [
    "for i in range(len(df_zscore['z_lead_time'])):\n",
    "  if df_zscore.z_lead_time[i] > 3:\n",
    "    df_hotels_train.lead_time[i] = round(media_lead_time)"
   ]
  },
  {
   "cell_type": "code",
   "execution_count": 12,
   "metadata": {
    "colab": {
     "base_uri": "https://localhost:8080/"
    },
    "id": "DOGcrc26EMFE",
    "outputId": "73caadb4-73e6-41ea-a076-a6d109eae184"
   },
   "outputs": [
    {
     "name": "stderr",
     "output_type": "stream",
     "text": [
      "/var/folders/2g/pz89x6gd4_z44j2mr8rthvmh0000gn/T/ipykernel_12171/1879383880.py:4: SettingWithCopyWarning: \n",
      "A value is trying to be set on a copy of a slice from a DataFrame\n",
      "\n",
      "See the caveats in the documentation: https://pandas.pydata.org/pandas-docs/stable/user_guide/indexing.html#returning-a-view-versus-a-copy\n",
      "  df_hotels_train.previous_cancellations[i] = 0 #Redondeamos a 0 ya que no tiene sentido normilazarlos sacando una media\n"
     ]
    }
   ],
   "source": [
    "#Normalizamos previus cancellation\n",
    "for i in range(len(df_hotels_train.previous_cancellations)):\n",
    "  if df_hotels_train.previous_cancellations[i] > 10:\n",
    "    df_hotels_train.previous_cancellations[i] = 0 #Redondeamos a 0 ya que no tiene sentido normilazarlos sacando una media"
   ]
  },
  {
   "cell_type": "code",
   "execution_count": 13,
   "metadata": {
    "colab": {
     "base_uri": "https://localhost:8080/"
    },
    "id": "0E0lRltOEScJ",
    "outputId": "08ce196c-0686-4d19-f222-25bcf39e5805"
   },
   "outputs": [
    {
     "name": "stderr",
     "output_type": "stream",
     "text": [
      "/var/folders/2g/pz89x6gd4_z44j2mr8rthvmh0000gn/T/ipykernel_12171/3966743444.py:4: SettingWithCopyWarning: \n",
      "A value is trying to be set on a copy of a slice from a DataFrame\n",
      "\n",
      "See the caveats in the documentation: https://pandas.pydata.org/pandas-docs/stable/user_guide/indexing.html#returning-a-view-versus-a-copy\n",
      "  df_hotels_train.previous_bookings_not_canceled[i] = round(media_previous_bookings_not_canceled)\n"
     ]
    }
   ],
   "source": [
    "media_previous_bookings_not_canceled=np.mean(df_hotels_train.previous_bookings_not_canceled)\n",
    "for i in range(len(df_hotels_train.previous_bookings_not_canceled)):\n",
    "  if df_hotels_train.previous_bookings_not_canceled[i] > 30:\n",
    "    df_hotels_train.previous_bookings_not_canceled[i] = round(media_previous_bookings_not_canceled)"
   ]
  },
  {
   "cell_type": "code",
   "execution_count": 14,
   "metadata": {
    "colab": {
     "base_uri": "https://localhost:8080/"
    },
    "id": "Srd6c_rEETU8",
    "outputId": "c14451a2-0909-4618-f4f6-a6f4e74a9467"
   },
   "outputs": [
    {
     "name": "stderr",
     "output_type": "stream",
     "text": [
      "/var/folders/2g/pz89x6gd4_z44j2mr8rthvmh0000gn/T/ipykernel_12171/3893981792.py:4: SettingWithCopyWarning: \n",
      "A value is trying to be set on a copy of a slice from a DataFrame\n",
      "\n",
      "See the caveats in the documentation: https://pandas.pydata.org/pandas-docs/stable/user_guide/indexing.html#returning-a-view-versus-a-copy\n",
      "  df_hotels_train.booking_changes[i] = 0 #Redondeamos a 0 ya que no tiene sentido normilazarlos sacando una media\n"
     ]
    }
   ],
   "source": [
    "#Normalizamos los valores atipicos de booking change\n",
    "for i in range(len(df_hotels_train.booking_changes)):\n",
    "  if df_hotels_train.booking_changes[i] > 10:\n",
    "    df_hotels_train.booking_changes[i] = 0 #Redondeamos a 0 ya que no tiene sentido normilazarlos sacando una media"
   ]
  },
  {
   "cell_type": "code",
   "execution_count": 15,
   "metadata": {
    "colab": {
     "base_uri": "https://localhost:8080/"
    },
    "id": "QdrLoqUQEXJ9",
    "outputId": "35ad17cb-acca-44e6-a065-83eb536bf7d4"
   },
   "outputs": [
    {
     "name": "stderr",
     "output_type": "stream",
     "text": [
      "/var/folders/2g/pz89x6gd4_z44j2mr8rthvmh0000gn/T/ipykernel_12171/3411085939.py:5: SettingWithCopyWarning: \n",
      "A value is trying to be set on a copy of a slice from a DataFrame\n",
      "\n",
      "See the caveats in the documentation: https://pandas.pydata.org/pandas-docs/stable/user_guide/indexing.html#returning-a-view-versus-a-copy\n",
      "  df_hotels_train.days_in_waiting_list[i] = round(media_days_in_waiting_list)\n"
     ]
    }
   ],
   "source": [
    "media_days_in_waiting_list = np.mean(df_hotels_train.days_in_waiting_list)\n",
    "\n",
    "for i in range(len(df_hotels_train.days_in_waiting_list)):\n",
    "  if df_hotels_train.days_in_waiting_list[i] > 100:\n",
    "    df_hotels_train.days_in_waiting_list[i] = round(media_days_in_waiting_list)"
   ]
  },
  {
   "cell_type": "code",
   "execution_count": 16,
   "metadata": {
    "colab": {
     "base_uri": "https://localhost:8080/"
    },
    "id": "M46EN1VPEZ0n",
    "outputId": "868df048-461e-437c-f037-6c925d2caa92"
   },
   "outputs": [
    {
     "name": "stderr",
     "output_type": "stream",
     "text": [
      "/var/folders/2g/pz89x6gd4_z44j2mr8rthvmh0000gn/T/ipykernel_12171/2146687091.py:5: SettingWithCopyWarning: \n",
      "A value is trying to be set on a copy of a slice from a DataFrame\n",
      "\n",
      "See the caveats in the documentation: https://pandas.pydata.org/pandas-docs/stable/user_guide/indexing.html#returning-a-view-versus-a-copy\n",
      "  df_hotels_train.required_car_parking_spaces[i] = round(media_required_car_parking_spaces)\n"
     ]
    }
   ],
   "source": [
    "media_required_car_parking_spaces = np.mean(df_hotels_train.required_car_parking_spaces)\n",
    "\n",
    "for i in range(len(df_hotels_train.required_car_parking_spaces)):\n",
    "  if df_hotels_train.required_car_parking_spaces[i] > 7:\n",
    "    df_hotels_train.required_car_parking_spaces[i] = round(media_required_car_parking_spaces)"
   ]
  },
  {
   "cell_type": "code",
   "execution_count": 17,
   "metadata": {
    "id": "b81_ya2DEmz7"
   },
   "outputs": [],
   "source": [
    "\n",
    "df_hotels_train.reset_index(drop=True, inplace=True)\n",
    "for i in range(len(df_hotels_train)):\n",
    "  if df_hotels_train.adults[i] == 0:\n",
    "    df_hotels_train = df_hotels_train.drop(index = [i])\n",
    "\n",
    "df_hotels_train.reset_index(drop=True, inplace=True)"
   ]
  },
  {
   "cell_type": "code",
   "execution_count": 18,
   "metadata": {
    "id": "mWK1RzFJEoI9"
   },
   "outputs": [],
   "source": [
    "df_hotels_train.reset_index(drop=True, inplace=True)\n",
    "for i in range(len(df_hotels_train)):\n",
    "  if df_hotels_train.adults[i] <= 2 and df_hotels_train.babies[i] >= 8:\n",
    "    df_hotels_train = df_hotels_train.drop(index = [i])\n",
    "    \n",
    "\n",
    "df_hotels_train.reset_index(drop=True, inplace=True)"
   ]
  },
  {
   "cell_type": "code",
   "execution_count": 19,
   "metadata": {
    "colab": {
     "base_uri": "https://localhost:8080/"
    },
    "id": "UZjV3q36EolQ",
    "outputId": "bb1593e2-a9aa-442e-a0f6-41b13a07bdc1"
   },
   "outputs": [
    {
     "name": "stderr",
     "output_type": "stream",
     "text": [
      "/var/folders/2g/pz89x6gd4_z44j2mr8rthvmh0000gn/T/ipykernel_12171/842624944.py:5: SettingWithCopyWarning: \n",
      "A value is trying to be set on a copy of a slice from a DataFrame\n",
      "\n",
      "See the caveats in the documentation: https://pandas.pydata.org/pandas-docs/stable/user_guide/indexing.html#returning-a-view-versus-a-copy\n",
      "  df_hotels_train.adults[i] = round(media_adults)\n"
     ]
    }
   ],
   "source": [
    "media_adults=np.mean(df_hotels_train.adults)\n",
    "\n",
    "for i in range(len(df_hotels_train)):\n",
    "  if df_hotels_train.adults[i] >= 25:\n",
    "    df_hotels_train.adults[i] = round(media_adults)"
   ]
  },
  {
   "cell_type": "code",
   "execution_count": 20,
   "metadata": {
    "id": "IuPJ_YGBHlpx"
   },
   "outputs": [],
   "source": [
    "df_hotels_train.reset_index(drop=True, inplace=True)\n",
    "\n",
    "for i in range(len(df_hotels_train)):\n",
    "  if df_hotels_train.stays_in_week_nights[i] == 0 and df_hotels_train.stays_in_weekend_nights[i] == 0:\n",
    "    df_hotels_train = df_hotels_train.drop(index = [i])\n",
    "\n",
    "df_hotels_train.reset_index(drop=True, inplace=True)"
   ]
  },
  {
   "cell_type": "markdown",
   "metadata": {
    "id": "8FDsjQFAEyb2"
   },
   "source": [
    "Eliminamos id (recordar que la vamos a necesitar mas tarde)"
   ]
  },
  {
   "cell_type": "code",
   "execution_count": 21,
   "metadata": {
    "id": "Uy1F1_oHE1yh"
   },
   "outputs": [],
   "source": [
    "eliminar_columnas = ['id'] # -> Recordar que el id lo vamos a necesitar para machear en kaggle\n",
    "                                                                      \n",
    "df_hotels_train.drop(eliminar_columnas, axis='columns', inplace=True)"
   ]
  },
  {
   "cell_type": "markdown",
   "metadata": {
    "id": "IPl9Pd2oFGFz"
   },
   "source": [
    "## Realizamos un encode de las variables"
   ]
  },
  {
   "cell_type": "code",
   "execution_count": 22,
   "metadata": {
    "id": "L2xs9NYdFI_w"
   },
   "outputs": [],
   "source": [
    "# Realizamos el one hot encoding, con scikit learn.\n",
    "# Por cada columna a encodear, hacer un fit transform. Dropear la columna, y agregar las columnas nuevas con el nombre adecuado\n",
    "df_hotels_train_to_encode = df_hotels_train.copy()\n",
    "cols_a_encodear = ['hotel','arrival_date_month','customer_type','meal', 'distribution_channel','market_segment', 'reserved_room_type', 'assigned_room_type', 'deposit_type', 'country']\n",
    "ohe = OneHotEncoder(drop='first', handle_unknown='infrequent_if_exist') # Siempre se elimina la primera columna, o el feature entero si solo tiene un valor (no aporta informacion).\n",
    "transformer = make_column_transformer(\n",
    "    (ohe, cols_a_encodear),\n",
    "    remainder='passthrough',\n",
    "    verbose_feature_names_out=False\n",
    ")"
   ]
  },
  {
   "cell_type": "code",
   "execution_count": 23,
   "metadata": {
    "id": "3jmf4GM3FN2e"
   },
   "outputs": [],
   "source": [
    "hotels_train_encoded = transformer.fit_transform(df_hotels_train_to_encode.drop('is_canceled', axis=1)) # Se dropea is_canceled, porque no hace falta encodearlo, y ademas la instancia de test no va a tener esa columna."
   ]
  },
  {
   "cell_type": "code",
   "execution_count": 24,
   "metadata": {
    "id": "BLljnI_iFPiv"
   },
   "outputs": [],
   "source": [
    "df_hotels_train_encoded = pd.DataFrame(\n",
    "    hotels_train_encoded.toarray(), \n",
    "    columns=transformer.get_feature_names_out()\n",
    ")\n",
    "\n",
    "#Mostramos las primera 10 columnas de country, ya que el resto tiene una cantidad bajisima de datos y no aportan demasiado\n",
    "country_cols = df_hotels_train_encoded.columns[df_hotels_train_encoded.columns.str.startswith('country_')]\n",
    "selected_columns = (df_hotels_train_encoded[country_cols] != 0).sum()\n",
    "#top_cols = selected_columns.nlargest(10).index\n",
    "top_cols = ['country_PRT', 'country_GBR', 'country_FRA', 'country_ESP',\n",
    "       'country_DEU', 'country_ITA', 'country_IRL', 'country_BRA',\n",
    "       'country_BEL', 'country_USA']\n",
    "other_countries = [col for col in country_cols if col not in top_cols]\n",
    "df_hotels_train_encoded['country_other'] = df_hotels_train_encoded[other_countries].sum(axis=1)\n",
    "df_hotels_train_encoded.drop(other_countries, axis=1, inplace=True)   "
   ]
  },
  {
   "cell_type": "code",
   "execution_count": 25,
   "metadata": {
    "colab": {
     "base_uri": "https://localhost:8080/",
     "height": 190
    },
    "id": "56C8mtxNJcms",
    "outputId": "fbefe3ef-e0a8-460d-fca4-c6dce946b810"
   },
   "outputs": [
    {
     "data": {
      "text/plain": [
       "['country_PRT',\n",
       " 'country_GBR',\n",
       " 'country_FRA',\n",
       " 'country_ESP',\n",
       " 'country_DEU',\n",
       " 'country_ITA',\n",
       " 'country_IRL',\n",
       " 'country_BRA',\n",
       " 'country_BEL',\n",
       " 'country_USA']"
      ]
     },
     "execution_count": 25,
     "metadata": {},
     "output_type": "execute_result"
    }
   ],
   "source": [
    "df_hotels_train_encoded.head(1)\n",
    "top_cols"
   ]
  },
  {
   "cell_type": "markdown",
   "metadata": {
    "id": "qylZ8PEMLa4G"
   },
   "source": [
    "##Ensambles"
   ]
  },
  {
   "cell_type": "code",
   "execution_count": 26,
   "metadata": {
    "id": "YvavAihVLadM"
   },
   "outputs": [],
   "source": [
    "#Creo un dataset con los features que voy a usar para clasificar\n",
    "df_hotels_train_x = df_hotels_train_encoded\n",
    "\n",
    "#Creo un dataset con la variable target\n",
    "df_hotels_train_y = df_hotels_train['is_canceled'].copy()\n",
    "\n",
    "#Genero los conjuntos de train y test]\n",
    "x_train, x_test, y_train, y_test = train_test_split(df_hotels_train_x, \n",
    "                                                    df_hotels_train_y, \n",
    "                                                    test_size=0.3,  #proporcion 70/30\n",
    "                                                    random_state=2) #semilla"
   ]
  },
  {
   "cell_type": "code",
   "execution_count": 28,
   "metadata": {
    "id": "aKHWMgzUcys4"
   },
   "outputs": [],
   "source": [
    "def metricas(y_pred,y_test):\n",
    "\n",
    "  print(classification_report(y_test,y_pred))\n",
    "  \n",
    "  cm = confusion_matrix(y_test,y_pred)\n",
    "  sns.heatmap(cm, cmap='Blues',annot=True,fmt='g')\n",
    "  plt.xlabel('Predicted')\n",
    "  plt.ylabel('True')"
   ]
  },
  {
   "cell_type": "markdown",
   "metadata": {
    "id": "Oli9Bevsf7fe"
   },
   "source": [
    "# SVC"
   ]
  },
  {
   "cell_type": "code",
   "execution_count": 29,
   "metadata": {
    "id": "E7HYqqRjc1td"
   },
   "outputs": [],
   "source": [
    "#Normalizo para luego utiizar en nuestro modelo\n",
    "std_scaler = StandardScaler()\n",
    "x_train_std = std_scaler.fit_transform(x_train)\n",
    "x_test_std = std_scaler.transform(x_test)"
   ]
  },
  {
   "cell_type": "markdown",
   "metadata": {
    "id": "aeVB8z04qf7s"
   },
   "source": [
    "Se utilizo GridSearch con los siguiente parametros: \n",
    "```\n",
    "param_grid = {'C':[3,4,6,10,15,30],\n",
    "              'kernel':['rbf','poly'],\n",
    "              'gamma':[1,3,4,7,5,8,10]}\n",
    "scorer_fn = make_scorer(sk.metrics.f1_score)\n",
    "grid_search = GridSearchCV(SVC(), param_grid, cv=5, scoring=scorer_fn, verbose=2, n_jobs=-1)\n",
    "```\n",
    "Se obtuvieron los siguientes resultados:\n",
    "```\n",
    "{'kernel': 'rbf', 'C': 5, 'gamma': '10'}\n",
    "```"
   ]
  },
  {
   "cell_type": "code",
   "execution_count": null,
   "metadata": {
    "colab": {
     "base_uri": "https://localhost:8080/",
     "height": 602
    },
    "id": "uf8pgedwdQDE",
    "outputId": "d4ede1aa-cc84-4d75-c05e-6c21e72f8da0"
   },
   "outputs": [],
   "source": [
    "#Creo un clasificador con kernel radial y lo entreno sobre los datos normalizados\n",
    "svc = SVC(kernel='rbf', C=5, gamma=10)\n",
    "svc.fit(x_train_std, y_train)"
   ]
  },
  {
   "cell_type": "code",
   "execution_count": null,
   "metadata": {
    "colab": {
     "base_uri": "https://localhost:8080/",
     "height": 602
    },
    "id": "OFaCsZe5uzE0",
    "outputId": "1f9037e1-c680-491a-bbd8-ec45ab214d9b"
   },
   "outputs": [],
   "source": [
    "#Hago la predicción y calculo las métricas\n",
    "y_svc_pred = svc.predict(x_test_std)\n",
    "metricas(y_svc_pred, y_test)"
   ]
  },
  {
   "cell_type": "markdown",
   "metadata": {
    "id": "jJYF9Y13kEsa"
   },
   "source": [
    "# KNeighborsClassifier"
   ]
  },
  {
   "cell_type": "markdown",
   "metadata": {},
   "source": [
    "Se utiliza MinMaxScaler.\n",
    "Primer GridSearch con:\n",
    "```\n",
    "{'n_neighbors': [13, 14, 15, 16, 17],\n",
    "              'weights': ['uniform', 'distance'],\n",
    "              'algorithm': ['kd_tree']}\n",
    "```\n",
    "arrojó los resultados:\n",
    "```\n",
    "{'algorithm': 'kd_tree', 'n_neighbors': 17, 'weights': 'distance'}\n",
    "```\n",
    "Segundo GridSearch con:\n",
    "```\n",
    "{'n_neighbors': [17, 18, 19, 20, 21, 22, 23],\n",
    "              'weights': ['distance'],\n",
    "              'algorithm': ['kd_tree']}\n",
    "```\n",
    "arrojó los siguientes resuldaos:\n",
    "```\n",
    "{'algorithm': 'kd_tree', 'n_neighbors': 20, 'weights': 'distance'}\n",
    "```"
   ]
  },
  {
   "cell_type": "code",
   "execution_count": 30,
   "metadata": {
    "id": "4dFD7TYHNP9Q"
   },
   "outputs": [],
   "source": [
    "#Normalizo para luego utiizar en nuestro modelo\n",
    "mm_scaler = MinMaxScaler()\n",
    "x_train_mm = mm_scaler.fit_transform(x_train)\n",
    "x_test_mm = mm_scaler.transform(x_test)"
   ]
  },
  {
   "cell_type": "code",
   "execution_count": 31,
   "metadata": {
    "colab": {
     "base_uri": "https://localhost:8080/",
     "height": 74
    },
    "id": "Rjvt2NIT8RXm",
    "outputId": "d873199c-7926-4704-b433-0654ff15ea07"
   },
   "outputs": [
    {
     "data": {
      "text/html": [
       "<style>#sk-container-id-1 {color: black;background-color: white;}#sk-container-id-1 pre{padding: 0;}#sk-container-id-1 div.sk-toggleable {background-color: white;}#sk-container-id-1 label.sk-toggleable__label {cursor: pointer;display: block;width: 100%;margin-bottom: 0;padding: 0.3em;box-sizing: border-box;text-align: center;}#sk-container-id-1 label.sk-toggleable__label-arrow:before {content: \"▸\";float: left;margin-right: 0.25em;color: #696969;}#sk-container-id-1 label.sk-toggleable__label-arrow:hover:before {color: black;}#sk-container-id-1 div.sk-estimator:hover label.sk-toggleable__label-arrow:before {color: black;}#sk-container-id-1 div.sk-toggleable__content {max-height: 0;max-width: 0;overflow: hidden;text-align: left;background-color: #f0f8ff;}#sk-container-id-1 div.sk-toggleable__content pre {margin: 0.2em;color: black;border-radius: 0.25em;background-color: #f0f8ff;}#sk-container-id-1 input.sk-toggleable__control:checked~div.sk-toggleable__content {max-height: 200px;max-width: 100%;overflow: auto;}#sk-container-id-1 input.sk-toggleable__control:checked~label.sk-toggleable__label-arrow:before {content: \"▾\";}#sk-container-id-1 div.sk-estimator input.sk-toggleable__control:checked~label.sk-toggleable__label {background-color: #d4ebff;}#sk-container-id-1 div.sk-label input.sk-toggleable__control:checked~label.sk-toggleable__label {background-color: #d4ebff;}#sk-container-id-1 input.sk-hidden--visually {border: 0;clip: rect(1px 1px 1px 1px);clip: rect(1px, 1px, 1px, 1px);height: 1px;margin: -1px;overflow: hidden;padding: 0;position: absolute;width: 1px;}#sk-container-id-1 div.sk-estimator {font-family: monospace;background-color: #f0f8ff;border: 1px dotted black;border-radius: 0.25em;box-sizing: border-box;margin-bottom: 0.5em;}#sk-container-id-1 div.sk-estimator:hover {background-color: #d4ebff;}#sk-container-id-1 div.sk-parallel-item::after {content: \"\";width: 100%;border-bottom: 1px solid gray;flex-grow: 1;}#sk-container-id-1 div.sk-label:hover label.sk-toggleable__label {background-color: #d4ebff;}#sk-container-id-1 div.sk-serial::before {content: \"\";position: absolute;border-left: 1px solid gray;box-sizing: border-box;top: 0;bottom: 0;left: 50%;z-index: 0;}#sk-container-id-1 div.sk-serial {display: flex;flex-direction: column;align-items: center;background-color: white;padding-right: 0.2em;padding-left: 0.2em;position: relative;}#sk-container-id-1 div.sk-item {position: relative;z-index: 1;}#sk-container-id-1 div.sk-parallel {display: flex;align-items: stretch;justify-content: center;background-color: white;position: relative;}#sk-container-id-1 div.sk-item::before, #sk-container-id-1 div.sk-parallel-item::before {content: \"\";position: absolute;border-left: 1px solid gray;box-sizing: border-box;top: 0;bottom: 0;left: 50%;z-index: -1;}#sk-container-id-1 div.sk-parallel-item {display: flex;flex-direction: column;z-index: 1;position: relative;background-color: white;}#sk-container-id-1 div.sk-parallel-item:first-child::after {align-self: flex-end;width: 50%;}#sk-container-id-1 div.sk-parallel-item:last-child::after {align-self: flex-start;width: 50%;}#sk-container-id-1 div.sk-parallel-item:only-child::after {width: 0;}#sk-container-id-1 div.sk-dashed-wrapped {border: 1px dashed gray;margin: 0 0.4em 0.5em 0.4em;box-sizing: border-box;padding-bottom: 0.4em;background-color: white;}#sk-container-id-1 div.sk-label label {font-family: monospace;font-weight: bold;display: inline-block;line-height: 1.2em;}#sk-container-id-1 div.sk-label-container {text-align: center;}#sk-container-id-1 div.sk-container {/* jupyter's `normalize.less` sets `[hidden] { display: none; }` but bootstrap.min.css set `[hidden] { display: none !important; }` so we also need the `!important` here to be able to override the default hidden behavior on the sphinx rendered scikit-learn.org. See: https://github.com/scikit-learn/scikit-learn/issues/21755 */display: inline-block !important;position: relative;}#sk-container-id-1 div.sk-text-repr-fallback {display: none;}</style><div id=\"sk-container-id-1\" class=\"sk-top-container\"><div class=\"sk-text-repr-fallback\"><pre>KNeighborsClassifier(algorithm=&#x27;kd_tree&#x27;, n_neighbors=20, weights=&#x27;distance&#x27;)</pre><b>In a Jupyter environment, please rerun this cell to show the HTML representation or trust the notebook. <br />On GitHub, the HTML representation is unable to render, please try loading this page with nbviewer.org.</b></div><div class=\"sk-container\" hidden><div class=\"sk-item\"><div class=\"sk-estimator sk-toggleable\"><input class=\"sk-toggleable__control sk-hidden--visually\" id=\"sk-estimator-id-1\" type=\"checkbox\" checked><label for=\"sk-estimator-id-1\" class=\"sk-toggleable__label sk-toggleable__label-arrow\">KNeighborsClassifier</label><div class=\"sk-toggleable__content\"><pre>KNeighborsClassifier(algorithm=&#x27;kd_tree&#x27;, n_neighbors=20, weights=&#x27;distance&#x27;)</pre></div></div></div></div></div>"
      ],
      "text/plain": [
       "KNeighborsClassifier(algorithm='kd_tree', n_neighbors=20, weights='distance')"
      ]
     },
     "execution_count": 31,
     "metadata": {},
     "output_type": "execute_result"
    }
   ],
   "source": [
    "# En base a lo anterior, se crea el modelo con los mejores hiper parámetros hallados.\n",
    "knn = KNeighborsClassifier(algorithm='kd_tree', n_neighbors=20, weights='distance')\n",
    "knn.fit(x_train_mm, y_train)"
   ]
  },
  {
   "cell_type": "code",
   "execution_count": 32,
   "metadata": {
    "colab": {
     "base_uri": "https://localhost:8080/",
     "height": 602
    },
    "id": "EQcBPusnavbV",
    "outputId": "1f2f7810-1331-464b-c41f-2c54486ffcc5"
   },
   "outputs": [
    {
     "name": "stdout",
     "output_type": "stream",
     "text": [
      "              precision    recall  f1-score   support\n",
      "\n",
      "           0       0.83      0.77      0.80      9219\n",
      "           1       0.78      0.85      0.81      9216\n",
      "\n",
      "    accuracy                           0.81     18435\n",
      "   macro avg       0.81      0.81      0.81     18435\n",
      "weighted avg       0.81      0.81      0.81     18435\n",
      "\n"
     ]
    },
    {
     "data": {
      "image/png": "[encoded data removed]",
      "text/plain": [
       "<Figure size 640x480 with 2 Axes>"
      ]
     },
     "metadata": {},
     "output_type": "display_data"
    }
   ],
   "source": [
    "y_knn_pred = knn.predict(x_test_mm)\n",
    "metricas(y_knn_pred, y_test)"
   ]
  },
  {
   "cell_type": "markdown",
   "metadata": {
    "id": "n8F7r6bGkL2z"
   },
   "source": [
    "# RandomForestClassifier"
   ]
  },
  {
   "cell_type": "markdown",
   "metadata": {
    "id": "Wpk0C4c1wLs_"
   },
   "source": [
    "No se utiliza Scaler.\n",
    "Primer GridSearch con:\n",
    "```\n",
    "{'n_estimators': [100, 200, 300],\n",
    "              'max_depth': [5, 10, 15, 20],\n",
    "              'min_samples_split': [2, 5, 10]}\n",
    "```\n",
    "arrojó los resultados:\n",
    "```\n",
    "{'max_depth': 20, 'min_samples_split': 2, 'n_estimators': 100}\n",
    "```\n",
    "Segundo GridSearch con:\n",
    "```\n",
    "{'n_neighbors': [17, 18, 19, 20, 21, 22, 23],\n",
    "              'weights': ['distance'],\n",
    "              'algorithm': ['kd_tree']}\n",
    "```\n",
    "arrojó los siguientes resuldaos:\n",
    "```\n",
    "{'max_depth': 23, 'min_samples_split': 2, 'n_estimators': 110}\n",
    "```"
   ]
  },
  {
   "cell_type": "code",
   "execution_count": 33,
   "metadata": {
    "colab": {
     "base_uri": "https://localhost:8080/",
     "height": 74
    },
    "id": "xnXCk9wgk3Fm",
    "outputId": "cc142e68-376b-4518-97c6-3355befd56a7"
   },
   "outputs": [
    {
     "data": {
      "text/html": [
       "<style>#sk-container-id-2 {color: black;background-color: white;}#sk-container-id-2 pre{padding: 0;}#sk-container-id-2 div.sk-toggleable {background-color: white;}#sk-container-id-2 label.sk-toggleable__label {cursor: pointer;display: block;width: 100%;margin-bottom: 0;padding: 0.3em;box-sizing: border-box;text-align: center;}#sk-container-id-2 label.sk-toggleable__label-arrow:before {content: \"▸\";float: left;margin-right: 0.25em;color: #696969;}#sk-container-id-2 label.sk-toggleable__label-arrow:hover:before {color: black;}#sk-container-id-2 div.sk-estimator:hover label.sk-toggleable__label-arrow:before {color: black;}#sk-container-id-2 div.sk-toggleable__content {max-height: 0;max-width: 0;overflow: hidden;text-align: left;background-color: #f0f8ff;}#sk-container-id-2 div.sk-toggleable__content pre {margin: 0.2em;color: black;border-radius: 0.25em;background-color: #f0f8ff;}#sk-container-id-2 input.sk-toggleable__control:checked~div.sk-toggleable__content {max-height: 200px;max-width: 100%;overflow: auto;}#sk-container-id-2 input.sk-toggleable__control:checked~label.sk-toggleable__label-arrow:before {content: \"▾\";}#sk-container-id-2 div.sk-estimator input.sk-toggleable__control:checked~label.sk-toggleable__label {background-color: #d4ebff;}#sk-container-id-2 div.sk-label input.sk-toggleable__control:checked~label.sk-toggleable__label {background-color: #d4ebff;}#sk-container-id-2 input.sk-hidden--visually {border: 0;clip: rect(1px 1px 1px 1px);clip: rect(1px, 1px, 1px, 1px);height: 1px;margin: -1px;overflow: hidden;padding: 0;position: absolute;width: 1px;}#sk-container-id-2 div.sk-estimator {font-family: monospace;background-color: #f0f8ff;border: 1px dotted black;border-radius: 0.25em;box-sizing: border-box;margin-bottom: 0.5em;}#sk-container-id-2 div.sk-estimator:hover {background-color: #d4ebff;}#sk-container-id-2 div.sk-parallel-item::after {content: \"\";width: 100%;border-bottom: 1px solid gray;flex-grow: 1;}#sk-container-id-2 div.sk-label:hover label.sk-toggleable__label {background-color: #d4ebff;}#sk-container-id-2 div.sk-serial::before {content: \"\";position: absolute;border-left: 1px solid gray;box-sizing: border-box;top: 0;bottom: 0;left: 50%;z-index: 0;}#sk-container-id-2 div.sk-serial {display: flex;flex-direction: column;align-items: center;background-color: white;padding-right: 0.2em;padding-left: 0.2em;position: relative;}#sk-container-id-2 div.sk-item {position: relative;z-index: 1;}#sk-container-id-2 div.sk-parallel {display: flex;align-items: stretch;justify-content: center;background-color: white;position: relative;}#sk-container-id-2 div.sk-item::before, #sk-container-id-2 div.sk-parallel-item::before {content: \"\";position: absolute;border-left: 1px solid gray;box-sizing: border-box;top: 0;bottom: 0;left: 50%;z-index: -1;}#sk-container-id-2 div.sk-parallel-item {display: flex;flex-direction: column;z-index: 1;position: relative;background-color: white;}#sk-container-id-2 div.sk-parallel-item:first-child::after {align-self: flex-end;width: 50%;}#sk-container-id-2 div.sk-parallel-item:last-child::after {align-self: flex-start;width: 50%;}#sk-container-id-2 div.sk-parallel-item:only-child::after {width: 0;}#sk-container-id-2 div.sk-dashed-wrapped {border: 1px dashed gray;margin: 0 0.4em 0.5em 0.4em;box-sizing: border-box;padding-bottom: 0.4em;background-color: white;}#sk-container-id-2 div.sk-label label {font-family: monospace;font-weight: bold;display: inline-block;line-height: 1.2em;}#sk-container-id-2 div.sk-label-container {text-align: center;}#sk-container-id-2 div.sk-container {/* jupyter's `normalize.less` sets `[hidden] { display: none; }` but bootstrap.min.css set `[hidden] { display: none !important; }` so we also need the `!important` here to be able to override the default hidden behavior on the sphinx rendered scikit-learn.org. See: https://github.com/scikit-learn/scikit-learn/issues/21755 */display: inline-block !important;position: relative;}#sk-container-id-2 div.sk-text-repr-fallback {display: none;}</style><div id=\"sk-container-id-2\" class=\"sk-top-container\"><div class=\"sk-text-repr-fallback\"><pre>RandomForestClassifier(max_depth=23, n_estimators=110)</pre><b>In a Jupyter environment, please rerun this cell to show the HTML representation or trust the notebook. <br />On GitHub, the HTML representation is unable to render, please try loading this page with nbviewer.org.</b></div><div class=\"sk-container\" hidden><div class=\"sk-item\"><div class=\"sk-estimator sk-toggleable\"><input class=\"sk-toggleable__control sk-hidden--visually\" id=\"sk-estimator-id-2\" type=\"checkbox\" checked><label for=\"sk-estimator-id-2\" class=\"sk-toggleable__label sk-toggleable__label-arrow\">RandomForestClassifier</label><div class=\"sk-toggleable__content\"><pre>RandomForestClassifier(max_depth=23, n_estimators=110)</pre></div></div></div></div></div>"
      ],
      "text/plain": [
       "RandomForestClassifier(max_depth=23, n_estimators=110)"
      ]
     },
     "execution_count": 33,
     "metadata": {},
     "output_type": "execute_result"
    }
   ],
   "source": [
    "rf = RandomForestClassifier(max_depth=23, min_samples_split=2, n_estimators=110)\n",
    "rf.fit(x_train, y_train)"
   ]
  },
  {
   "cell_type": "code",
   "execution_count": 34,
   "metadata": {
    "id": "CzryyIAjn-US"
   },
   "outputs": [
    {
     "name": "stdout",
     "output_type": "stream",
     "text": [
      "              precision    recall  f1-score   support\n",
      "\n",
      "           0       0.88      0.88      0.88      9219\n",
      "           1       0.88      0.88      0.88      9216\n",
      "\n",
      "    accuracy                           0.88     18435\n",
      "   macro avg       0.88      0.88      0.88     18435\n",
      "weighted avg       0.88      0.88      0.88     18435\n",
      "\n"
     ]
    },
    {
     "data": {
      "image/png": "[encoded data removed]",
      "text/plain": [
       "<Figure size 640x480 with 2 Axes>"
      ]
     },
     "metadata": {},
     "output_type": "display_data"
    }
   ],
   "source": [
    "y_rf_pred = rf.predict(x_test)\n",
    "metricas(y_rf_pred, y_test)"
   ]
  },
  {
   "cell_type": "markdown",
   "metadata": {},
   "source": [
    "# XGBoost"
   ]
  },
  {
   "cell_type": "code",
   "execution_count": 39,
   "metadata": {},
   "outputs": [
    {
     "ename": "NameError",
     "evalue": "name 'df_target' is not defined",
     "output_type": "error",
     "traceback": [
      "\u001b[0;31m---------------------------------------------------------------------------\u001b[0m",
      "\u001b[0;31mNameError\u001b[0m                                 Traceback (most recent call last)",
      "Cell \u001b[0;32mIn[39], line 3\u001b[0m\n\u001b[1;32m      1\u001b[0m \u001b[38;5;66;03m#Separo un set de Evaluacion\u001b[39;00m\n\u001b[1;32m      2\u001b[0m x_train_Xg, x_test_Xg, y_train_Xg, y_test_Xg \u001b[38;5;241m=\u001b[39m train_test_split(df_hotels_train_encoded\u001b[38;5;241m.\u001b[39mvalues, \n\u001b[0;32m----> 3\u001b[0m                                                     \u001b[43mdf_target\u001b[49m\u001b[38;5;241m.\u001b[39mvalues, \n\u001b[1;32m      4\u001b[0m                                                     test_size\u001b[38;5;241m=\u001b[39m\u001b[38;5;241m0.2\u001b[39m,    \u001b[38;5;66;03m#20% al conjunto de test\u001b[39;00m\n\u001b[1;32m      5\u001b[0m                                                     random_state\u001b[38;5;241m=\u001b[39m\u001b[38;5;241m13\u001b[39m,  \u001b[38;5;66;03m#para poder reproducir el experimento\u001b[39;00m\n\u001b[1;32m      6\u001b[0m                                                     stratify\u001b[38;5;241m=\u001b[39mdf_target\u001b[38;5;241m.\u001b[39mvalues) \u001b[38;5;66;03m#estratificado para mantener proporcion\u001b[39;00m\n\u001b[1;32m      9\u001b[0m \u001b[38;5;28mprint\u001b[39m(\u001b[38;5;124m'\u001b[39m\u001b[38;5;124m# Datos Entrenamiento: \u001b[39m\u001b[38;5;132;01m{}\u001b[39;00m\u001b[38;5;124m'\u001b[39m\u001b[38;5;241m.\u001b[39mformat(\u001b[38;5;28mlen\u001b[39m(x_train_Xg))) \u001b[38;5;66;03m#- > cantidad de datos en cada set\u001b[39;00m\n\u001b[1;32m     10\u001b[0m \u001b[38;5;28mprint\u001b[39m(\u001b[38;5;124m'\u001b[39m\u001b[38;5;124m# Datos Prueba: \u001b[39m\u001b[38;5;132;01m{}\u001b[39;00m\u001b[38;5;124m'\u001b[39m\u001b[38;5;241m.\u001b[39mformat(\u001b[38;5;28mlen\u001b[39m(x_test_Xg)))\n",
      "\u001b[0;31mNameError\u001b[0m: name 'df_target' is not defined"
     ]
    }
   ],
   "source": [
    "#Separo un set de Evaluacion\n",
    "x_train_Xg, x_test_Xg, y_train_Xg, y_test_Xg = train_test_split(df_hotels_train_encoded.values, \n",
    "                                                    df_target.values, \n",
    "                                                    test_size=0.2,    #20% al conjunto de test\n",
    "                                                    random_state=13,  #para poder reproducir el experimento\n",
    "                                                    stratify=df_target.values) #estratificado para mantener proporcion\n",
    "\n",
    "\n",
    "print('# Datos Entrenamiento: {}'.format(len(x_train_Xg))) #- > cantidad de datos en cada set\n",
    "print('# Datos Prueba: {}'.format(len(x_test_Xg)))\n",
    "\n",
    "#Verifico como quedaron balanceados\n",
    "for split_name, split in zip(['% Positivos Entrenamiento','% Positivos Prueba'],[y_train_Xg,y_test_Xg]):\n",
    "  print('{}: {:.3f}'.format(split_name,pd.Series(split).value_counts(normalize=True)[1]*100))"
   ]
  },
  {
   "cell_type": "code",
   "execution_count": 40,
   "metadata": {},
   "outputs": [
    {
     "ename": "ModuleNotFoundError",
     "evalue": "No module named 'xgboost'",
     "output_type": "error",
     "traceback": [
      "\u001b[0;31m---------------------------------------------------------------------------\u001b[0m",
      "\u001b[0;31mModuleNotFoundError\u001b[0m                       Traceback (most recent call last)",
      "Cell \u001b[0;32mIn[40], line 1\u001b[0m\n\u001b[0;32m----> 1\u001b[0m \u001b[38;5;28;01mimport\u001b[39;00m \u001b[38;5;21;01mxgboost\u001b[39;00m \u001b[38;5;28;01mas\u001b[39;00m \u001b[38;5;21;01mxgb\u001b[39;00m\n\u001b[1;32m      3\u001b[0m xgb_model \u001b[38;5;241m=\u001b[39m xgb\u001b[38;5;241m.\u001b[39mXGBClassifier(random_state\u001b[38;5;241m=\u001b[39m\u001b[38;5;241m0\u001b[39m, n_estimators\u001b[38;5;241m=\u001b[39m\u001b[38;5;241m100\u001b[39m)\n\u001b[1;32m      4\u001b[0m xgb_model\u001b[38;5;241m.\u001b[39mfit(x_train_Xg, y_train_Xg)\n",
      "\u001b[0;31mModuleNotFoundError\u001b[0m: No module named 'xgboost'"
     ]
    }
   ],
   "source": [
    "import xgboost as xgb\n",
    "\n",
    "xgb_model = xgb.XGBClassifier(random_state=0, n_estimators=100)\n",
    "xgb_model.fit(x_train_Xg, y_train_Xg) #Entrenamos el modelo"
   ]
  },
  {
   "cell_type": "code",
   "execution_count": 41,
   "metadata": {},
   "outputs": [
    {
     "ename": "NameError",
     "evalue": "name 'xgb_model' is not defined",
     "output_type": "error",
     "traceback": [
      "\u001b[0;31m---------------------------------------------------------------------------\u001b[0m",
      "\u001b[0;31mNameError\u001b[0m                                 Traceback (most recent call last)",
      "Cell \u001b[0;32mIn[41], line 1\u001b[0m\n\u001b[0;32m----> 1\u001b[0m y_pred_proba \u001b[38;5;241m=\u001b[39m \u001b[43mxgb_model\u001b[49m\u001b[38;5;241m.\u001b[39mpredict_proba(x_test_Xg)[:, \u001b[38;5;241m1\u001b[39m]\n\u001b[1;32m      2\u001b[0m \u001b[38;5;28mprint\u001b[39m(\u001b[38;5;124m'\u001b[39m\u001b[38;5;124mAUC:\u001b[39m\u001b[38;5;124m'\u001b[39m,roc_auc_score(y_test_Xg, y_pred_proba)) \u001b[38;5;66;03m#mostramos el area bajo la curva\u001b[39;00m\n\u001b[1;32m      4\u001b[0m \u001b[38;5;66;03m#Realizamos el pred y mostramos la matriz de confusion\u001b[39;00m\n",
      "\u001b[0;31mNameError\u001b[0m: name 'xgb_model' is not defined"
     ]
    }
   ],
   "source": [
    "y_pred_proba = xgb_model.predict_proba(x_test_Xg)[:, 1]\n",
    "print('AUC:',roc_auc_score(y_test_Xg, y_pred_proba)) #mostramos el area bajo la curva\n",
    "\n",
    "#Realizamos el pred y mostramos la matriz de confusion\n",
    "y_pred_Xg = xgb_model.predict(x_test_Xg)\n",
    "\n",
    "cm = confusion_matrix(y_test_Xg,y_pred_Xg)\n",
    "sns.heatmap(cm, cmap='Blues',annot=True,fmt='g')\n",
    "plt.xlabel('Predicted')\n",
    "plt.ylabel('True')\n",
    "\n",
    "#Metricas\n",
    "print(classification_report(y_test_Xg,y_pred_Xg))"
   ]
  },
  {
   "cell_type": "markdown",
   "metadata": {},
   "source": [
    "Tenemos unas metricas bastante mas altas que el resto de ensambles en primera instancia. Este modelo es bastante mas potente que el resto de nuestros modelos hasta ahora.\n",
    "\n",
    "Ahora, buscaremos llos hiperparametros para optimizar el modelo y conseguir un mejor rendimiento"
   ]
  },
  {
   "cell_type": "code",
   "execution_count": null,
   "metadata": {},
   "outputs": [],
   "source": [
    "params_grid = {'n_estimators':range(20, 150, 5), 'max_depth':range(1,7), 'learning_rate':np.arange(0,1,0.001)} #Hiper params que queremos mejorar\n",
    "\n",
    "#Folds\n",
    "kfoldcv = StratifiedKFold(n_splits=5)\n",
    "\n",
    "#Metrica que buscamos mejorar \n",
    "scorer_fn = make_scorer(sk.metrics.f1_score) \n",
    "\n",
    "\n",
    "#Ramdom Search CV\n",
    "clasificador = xgb.XGBClassifier()\n",
    "randomcv = RandomizedSearchCV(clasificador, params_grid, n_jobs=-1, scoring = scorer_fn, cv=kfoldcv, n_iter=10, verbose = 1)\n",
    "#randomcv.fit(x_train_Xg,y_train_Xg)\n",
    "\n",
    "#print (randomcv.best_score_, randomcv.best_params_)\n",
    "\n",
    "#Mejor Modelo\n",
    "#gb = randomcv.best_estimator_"
   ]
  }
 ],
 "metadata": {
  "colab": {
   "provenance": []
  },
  "kernelspec": {
   "display_name": "Python 3 (ipykernel)",
   "language": "python",
   "name": "python3"
  },
  "language_info": {
   "codemirror_mode": {
    "name": "ipython",
    "version": 3
   },
   "file_extension": ".py",
   "mimetype": "text/x-python",
   "name": "python",
   "nbconvert_exporter": "python",
   "pygments_lexer": "ipython3",
   "version": "3.10.9"
  }
 },
 "nbformat": 4,
 "nbformat_minor": 1
}
