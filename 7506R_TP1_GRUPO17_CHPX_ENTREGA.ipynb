{
  "cells": [
    {
      "cell_type": "markdown",
      "metadata": {
        "id": "view-in-github"
      },
      "source": [
        "<a href=\"https://colab.research.google.com/github/franlopez1234/7506R-1C2023-GRUPO17/blob/main/7506R_TP1_GRUPO17_CHPX_ENTREGA_ipynb.ipynb\" target=\"_parent\"><img src=\"https://colab.research.google.com/assets/colab-badge.svg\" alt=\"Open In Colab\"/></a>"
      ]
    },
    {
      "cell_type": "markdown",
      "metadata": {
        "id": "AjquUrdmJJIg"
      },
      "source": [
        "##Librerias"
      ]
    },
    {
      "cell_type": "code",
      "execution_count": 24,
      "metadata": {
        "id": "j06w1QqlJLiY"
      },
      "outputs": [],
      "source": [
        "import math\n",
        "import matplotlib.pyplot as plt\n",
        "import numpy as np\n",
        "import pandas as pd\n",
        "from pandas.plotting import scatter_matrix\n",
        "from sklearn import tree\n",
        "from sklearn.compose import make_column_transformer\n",
        "from sklearn.datasets import make_classification\n",
        "from sklearn.ensemble import RandomForestClassifier\n",
        "from sklearn.metrics import (accuracy_score, classification_report,\n",
        "                             confusion_matrix, f1_score, precision_score,\n",
        "                             recall_score, make_scorer)\n",
        "\n",
        "from sklearn.metrics import roc_auc_score\n",
        "from sklearn.model_selection import GridSearchCV, train_test_split, StratifiedKFold, KFold, RandomizedSearchCV\n",
        "from sklearn.neighbors import KNeighborsClassifier\n",
        "from sklearn.preprocessing import MinMaxScaler, OneHotEncoder, OrdinalEncoder, StandardScaler\n",
        "from sklearn.svm import SVC\n",
        "import seaborn as sns\n",
        "import sklearn as sk\n",
        "import warnings\n",
        "warnings.simplefilter(action='ignore', category=FutureWarning)\n",
        "warnings.simplefilter(action='ignore', category=UserWarning)"
      ]
    },
    {
      "cell_type": "markdown",
      "metadata": {
        "id": "3OOn8nICCW6r"
      },
      "source": [
        "##Realizamos el tratamiento de las variables"
      ]
    },
    {
      "cell_type": "code",
      "execution_count": 25,
      "metadata": {
        "id": "BQGfbgFiz7ry"
      },
      "outputs": [],
      "source": [
        "df_hotels_train = pd.read_csv('hotels_train.csv')"
      ]
    },
    {
      "cell_type": "code",
      "execution_count": 26,
      "metadata": {
        "id": "D3-rrHE7Cu7O",
        "colab": {
          "base_uri": "https://localhost:8080/",
          "height": 309
        },
        "outputId": "97309757-5526-4970-9992-7acac05fbe76"
      },
      "outputs": [
        {
          "output_type": "execute_result",
          "data": {
            "text/plain": [
              "          hotel  lead_time  arrival_date_year arrival_date_month  \\\n",
              "0    City Hotel         49               2016          September   \n",
              "1  Resort Hotel          4               2015            October   \n",
              "\n",
              "   arrival_date_week_number  arrival_date_day_of_month  \\\n",
              "0                        37                          5   \n",
              "1                        44                         31   \n",
              "\n",
              "   stays_in_weekend_nights  stays_in_week_nights  adults  children  ...  \\\n",
              "0                        1                     2       1       0.0  ...   \n",
              "1                        0                     1       2       0.0  ...   \n",
              "\n",
              "   company days_in_waiting_list customer_type    adr  \\\n",
              "0      NaN                    0     Transient  115.5   \n",
              "1      NaN                    0     Transient   42.0   \n",
              "\n",
              "  required_car_parking_spaces  total_of_special_requests  reservation_status  \\\n",
              "0                           0                          1            Canceled   \n",
              "1                           1                          0           Check-Out   \n",
              "\n",
              "   reservation_status_date                                    id is_canceled  \n",
              "0               2016-08-25  7aa4cc6b-b92c-4061-b21d-4f9e0cac4689           1  \n",
              "1               2015-11-01  b1428f80-c56c-4ae4-91a9-6962edae08b1           0  \n",
              "\n",
              "[2 rows x 33 columns]"
            ],
            "text/html": [
              "\n",
              "  <div id=\"df-897243be-20e4-4cd7-8787-64815a9e6825\">\n",
              "    <div class=\"colab-df-container\">\n",
              "      <div>\n",
              "<style scoped>\n",
              "    .dataframe tbody tr th:only-of-type {\n",
              "        vertical-align: middle;\n",
              "    }\n",
              "\n",
              "    .dataframe tbody tr th {\n",
              "        vertical-align: top;\n",
              "    }\n",
              "\n",
              "    .dataframe thead th {\n",
              "        text-align: right;\n",
              "    }\n",
              "</style>\n",
              "<table border=\"1\" class=\"dataframe\">\n",
              "  <thead>\n",
              "    <tr style=\"text-align: right;\">\n",
              "      <th></th>\n",
              "      <th>hotel</th>\n",
              "      <th>lead_time</th>\n",
              "      <th>arrival_date_year</th>\n",
              "      <th>arrival_date_month</th>\n",
              "      <th>arrival_date_week_number</th>\n",
              "      <th>arrival_date_day_of_month</th>\n",
              "      <th>stays_in_weekend_nights</th>\n",
              "      <th>stays_in_week_nights</th>\n",
              "      <th>adults</th>\n",
              "      <th>children</th>\n",
              "      <th>...</th>\n",
              "      <th>company</th>\n",
              "      <th>days_in_waiting_list</th>\n",
              "      <th>customer_type</th>\n",
              "      <th>adr</th>\n",
              "      <th>required_car_parking_spaces</th>\n",
              "      <th>total_of_special_requests</th>\n",
              "      <th>reservation_status</th>\n",
              "      <th>reservation_status_date</th>\n",
              "      <th>id</th>\n",
              "      <th>is_canceled</th>\n",
              "    </tr>\n",
              "  </thead>\n",
              "  <tbody>\n",
              "    <tr>\n",
              "      <th>0</th>\n",
              "      <td>City Hotel</td>\n",
              "      <td>49</td>\n",
              "      <td>2016</td>\n",
              "      <td>September</td>\n",
              "      <td>37</td>\n",
              "      <td>5</td>\n",
              "      <td>1</td>\n",
              "      <td>2</td>\n",
              "      <td>1</td>\n",
              "      <td>0.0</td>\n",
              "      <td>...</td>\n",
              "      <td>NaN</td>\n",
              "      <td>0</td>\n",
              "      <td>Transient</td>\n",
              "      <td>115.5</td>\n",
              "      <td>0</td>\n",
              "      <td>1</td>\n",
              "      <td>Canceled</td>\n",
              "      <td>2016-08-25</td>\n",
              "      <td>7aa4cc6b-b92c-4061-b21d-4f9e0cac4689</td>\n",
              "      <td>1</td>\n",
              "    </tr>\n",
              "    <tr>\n",
              "      <th>1</th>\n",
              "      <td>Resort Hotel</td>\n",
              "      <td>4</td>\n",
              "      <td>2015</td>\n",
              "      <td>October</td>\n",
              "      <td>44</td>\n",
              "      <td>31</td>\n",
              "      <td>0</td>\n",
              "      <td>1</td>\n",
              "      <td>2</td>\n",
              "      <td>0.0</td>\n",
              "      <td>...</td>\n",
              "      <td>NaN</td>\n",
              "      <td>0</td>\n",
              "      <td>Transient</td>\n",
              "      <td>42.0</td>\n",
              "      <td>1</td>\n",
              "      <td>0</td>\n",
              "      <td>Check-Out</td>\n",
              "      <td>2015-11-01</td>\n",
              "      <td>b1428f80-c56c-4ae4-91a9-6962edae08b1</td>\n",
              "      <td>0</td>\n",
              "    </tr>\n",
              "  </tbody>\n",
              "</table>\n",
              "<p>2 rows × 33 columns</p>\n",
              "</div>\n",
              "      <button class=\"colab-df-convert\" onclick=\"convertToInteractive('df-897243be-20e4-4cd7-8787-64815a9e6825')\"\n",
              "              title=\"Convert this dataframe to an interactive table.\"\n",
              "              style=\"display:none;\">\n",
              "        \n",
              "  <svg xmlns=\"http://www.w3.org/2000/svg\" height=\"24px\"viewBox=\"0 0 24 24\"\n",
              "       width=\"24px\">\n",
              "    <path d=\"M0 0h24v24H0V0z\" fill=\"none\"/>\n",
              "    <path d=\"M18.56 5.44l.94 2.06.94-2.06 2.06-.94-2.06-.94-.94-2.06-.94 2.06-2.06.94zm-11 1L8.5 8.5l.94-2.06 2.06-.94-2.06-.94L8.5 2.5l-.94 2.06-2.06.94zm10 10l.94 2.06.94-2.06 2.06-.94-2.06-.94-.94-2.06-.94 2.06-2.06.94z\"/><path d=\"M17.41 7.96l-1.37-1.37c-.4-.4-.92-.59-1.43-.59-.52 0-1.04.2-1.43.59L10.3 9.45l-7.72 7.72c-.78.78-.78 2.05 0 2.83L4 21.41c.39.39.9.59 1.41.59.51 0 1.02-.2 1.41-.59l7.78-7.78 2.81-2.81c.8-.78.8-2.07 0-2.86zM5.41 20L4 18.59l7.72-7.72 1.47 1.35L5.41 20z\"/>\n",
              "  </svg>\n",
              "      </button>\n",
              "      \n",
              "  <style>\n",
              "    .colab-df-container {\n",
              "      display:flex;\n",
              "      flex-wrap:wrap;\n",
              "      gap: 12px;\n",
              "    }\n",
              "\n",
              "    .colab-df-convert {\n",
              "      background-color: #E8F0FE;\n",
              "      border: none;\n",
              "      border-radius: 50%;\n",
              "      cursor: pointer;\n",
              "      display: none;\n",
              "      fill: #1967D2;\n",
              "      height: 32px;\n",
              "      padding: 0 0 0 0;\n",
              "      width: 32px;\n",
              "    }\n",
              "\n",
              "    .colab-df-convert:hover {\n",
              "      background-color: #E2EBFA;\n",
              "      box-shadow: 0px 1px 2px rgba(60, 64, 67, 0.3), 0px 1px 3px 1px rgba(60, 64, 67, 0.15);\n",
              "      fill: #174EA6;\n",
              "    }\n",
              "\n",
              "    [theme=dark] .colab-df-convert {\n",
              "      background-color: #3B4455;\n",
              "      fill: #D2E3FC;\n",
              "    }\n",
              "\n",
              "    [theme=dark] .colab-df-convert:hover {\n",
              "      background-color: #434B5C;\n",
              "      box-shadow: 0px 1px 3px 1px rgba(0, 0, 0, 0.15);\n",
              "      filter: drop-shadow(0px 1px 2px rgba(0, 0, 0, 0.3));\n",
              "      fill: #FFFFFF;\n",
              "    }\n",
              "  </style>\n",
              "\n",
              "      <script>\n",
              "        const buttonEl =\n",
              "          document.querySelector('#df-897243be-20e4-4cd7-8787-64815a9e6825 button.colab-df-convert');\n",
              "        buttonEl.style.display =\n",
              "          google.colab.kernel.accessAllowed ? 'block' : 'none';\n",
              "\n",
              "        async function convertToInteractive(key) {\n",
              "          const element = document.querySelector('#df-897243be-20e4-4cd7-8787-64815a9e6825');\n",
              "          const dataTable =\n",
              "            await google.colab.kernel.invokeFunction('convertToInteractive',\n",
              "                                                     [key], {});\n",
              "          if (!dataTable) return;\n",
              "\n",
              "          const docLinkHtml = 'Like what you see? Visit the ' +\n",
              "            '<a target=\"_blank\" href=https://colab.research.google.com/notebooks/data_table.ipynb>data table notebook</a>'\n",
              "            + ' to learn more about interactive tables.';\n",
              "          element.innerHTML = '';\n",
              "          dataTable['output_type'] = 'display_data';\n",
              "          await google.colab.output.renderOutput(dataTable, element);\n",
              "          const docLink = document.createElement('div');\n",
              "          docLink.innerHTML = docLinkHtml;\n",
              "          element.appendChild(docLink);\n",
              "        }\n",
              "      </script>\n",
              "    </div>\n",
              "  </div>\n",
              "  "
            ]
          },
          "metadata": {},
          "execution_count": 26
        }
      ],
      "source": [
        "df_hotels_train.head(2)"
      ]
    },
    {
      "cell_type": "code",
      "execution_count": 27,
      "metadata": {
        "id": "Bwpp1z_hCvOh",
        "colab": {
          "base_uri": "https://localhost:8080/"
        },
        "outputId": "c5f3985e-1210-48ca-9d38-8142417c4fe2"
      },
      "outputs": [
        {
          "output_type": "execute_result",
          "data": {
            "text/plain": [
              "hotel                              object\n",
              "lead_time                           int64\n",
              "arrival_date_year                   int64\n",
              "arrival_date_month                 object\n",
              "arrival_date_week_number            int64\n",
              "arrival_date_day_of_month           int64\n",
              "stays_in_weekend_nights             int64\n",
              "stays_in_week_nights                int64\n",
              "adults                              int64\n",
              "children                          float64\n",
              "babies                              int64\n",
              "meal                               object\n",
              "country                            object\n",
              "market_segment                     object\n",
              "distribution_channel               object\n",
              "is_repeated_guest                   int64\n",
              "previous_cancellations              int64\n",
              "previous_bookings_not_canceled      int64\n",
              "reserved_room_type                 object\n",
              "assigned_room_type                 object\n",
              "booking_changes                     int64\n",
              "deposit_type                       object\n",
              "agent                             float64\n",
              "company                           float64\n",
              "days_in_waiting_list                int64\n",
              "customer_type                      object\n",
              "adr                               float64\n",
              "required_car_parking_spaces         int64\n",
              "total_of_special_requests           int64\n",
              "id                                 object\n",
              "is_canceled                         int64\n",
              "dtype: object"
            ]
          },
          "metadata": {},
          "execution_count": 27
        }
      ],
      "source": [
        "#Eliminamos las columnas de reservation_status y reservation_status_date para evitar confusiones\n",
        "df_hotels_train = df_hotels_train.drop(['reservation_status','reservation_status_date'], axis =1) #->Desmarcar al abrir el archivo\n",
        "df_hotels_train.dtypes"
      ]
    },
    {
      "cell_type": "code",
      "execution_count": 28,
      "metadata": {
        "id": "MnkGgXHxCvsA"
      },
      "outputs": [],
      "source": [
        "df_hotels_train['hotel'] = df_hotels_train['hotel'].astype('string')\n",
        "df_hotels_train['arrival_date_month'] = df_hotels_train['arrival_date_month'].astype('string')\n",
        "df_hotels_train['meal'] = df_hotels_train['meal'].astype('string')\n",
        "df_hotels_train['country'] = df_hotels_train['country'].astype('string')\n",
        "df_hotels_train['id'] = df_hotels_train['id'].astype('string')\n",
        "df_hotels_train['customer_type'] = df_hotels_train['customer_type'].astype('string')\n",
        "df_hotels_train['market_segment'] = df_hotels_train['market_segment'].astype('string')\n",
        "df_hotels_train['distribution_channel'] = df_hotels_train['distribution_channel'].astype('string')\n",
        "df_hotels_train['reserved_room_type'] = df_hotels_train['reserved_room_type'].astype('string')\n",
        "df_hotels_train['assigned_room_type'] = df_hotels_train['assigned_room_type'].astype('string')\n",
        "df_hotels_train['deposit_type'] = df_hotels_train['deposit_type'].astype('string')"
      ]
    },
    {
      "cell_type": "markdown",
      "metadata": {
        "id": "W44Yo-SfDpJ3"
      },
      "source": [
        "Retiramos los nulos"
      ]
    },
    {
      "cell_type": "code",
      "execution_count": 29,
      "metadata": {
        "id": "J3nelv_nCwJe"
      },
      "outputs": [],
      "source": [
        "#Company\n",
        "df_hotels_train['company'].fillna(-9999, inplace=True)"
      ]
    },
    {
      "cell_type": "code",
      "execution_count": 30,
      "metadata": {
        "id": "Lnm3sVFgDtAu"
      },
      "outputs": [],
      "source": [
        "#Agent\n",
        "df_hotels_train['agent'].fillna(-9999, inplace=True)"
      ]
    },
    {
      "cell_type": "code",
      "execution_count": 31,
      "metadata": {
        "id": "zvjsw1dBDu0u"
      },
      "outputs": [],
      "source": [
        "#Country\n",
        "df_hotels_train['country'].fillna('PRT', inplace=True)"
      ]
    },
    {
      "cell_type": "code",
      "execution_count": 32,
      "metadata": {
        "id": "Q6bMvYh8Dwgx"
      },
      "outputs": [],
      "source": [
        "#Children\n",
        "df_hotels_train['children'].fillna(0, inplace=True)"
      ]
    },
    {
      "cell_type": "markdown",
      "metadata": {
        "id": "vO6eiYGXEAxV"
      },
      "source": [
        "Analizamos los outliers"
      ]
    },
    {
      "cell_type": "code",
      "execution_count": 33,
      "metadata": {
        "id": "Z9ev6iV_Ka22",
        "colab": {
          "base_uri": "https://localhost:8080/",
          "height": 423
        },
        "outputId": "18ed9c33-c5ad-4a12-e9b7-99007c22bf7b"
      },
      "outputs": [
        {
          "output_type": "execute_result",
          "data": {
            "text/plain": [
              "       z_lead_time\n",
              "15        3.186066\n",
              "51        3.402834\n",
              "95        3.086713\n",
              "426       3.691859\n",
              "576       4.640223\n",
              "...            ...\n",
              "61579     3.655731\n",
              "61695     3.213162\n",
              "61761     3.466059\n",
              "61783     3.086713\n",
              "61790     3.845404\n",
              "\n",
              "[732 rows x 1 columns]"
            ],
            "text/html": [
              "\n",
              "  <div id=\"df-bd0f4d87-3627-4822-9159-0f2769d7ae30\">\n",
              "    <div class=\"colab-df-container\">\n",
              "      <div>\n",
              "<style scoped>\n",
              "    .dataframe tbody tr th:only-of-type {\n",
              "        vertical-align: middle;\n",
              "    }\n",
              "\n",
              "    .dataframe tbody tr th {\n",
              "        vertical-align: top;\n",
              "    }\n",
              "\n",
              "    .dataframe thead th {\n",
              "        text-align: right;\n",
              "    }\n",
              "</style>\n",
              "<table border=\"1\" class=\"dataframe\">\n",
              "  <thead>\n",
              "    <tr style=\"text-align: right;\">\n",
              "      <th></th>\n",
              "      <th>z_lead_time</th>\n",
              "    </tr>\n",
              "  </thead>\n",
              "  <tbody>\n",
              "    <tr>\n",
              "      <th>15</th>\n",
              "      <td>3.186066</td>\n",
              "    </tr>\n",
              "    <tr>\n",
              "      <th>51</th>\n",
              "      <td>3.402834</td>\n",
              "    </tr>\n",
              "    <tr>\n",
              "      <th>95</th>\n",
              "      <td>3.086713</td>\n",
              "    </tr>\n",
              "    <tr>\n",
              "      <th>426</th>\n",
              "      <td>3.691859</td>\n",
              "    </tr>\n",
              "    <tr>\n",
              "      <th>576</th>\n",
              "      <td>4.640223</td>\n",
              "    </tr>\n",
              "    <tr>\n",
              "      <th>...</th>\n",
              "      <td>...</td>\n",
              "    </tr>\n",
              "    <tr>\n",
              "      <th>61579</th>\n",
              "      <td>3.655731</td>\n",
              "    </tr>\n",
              "    <tr>\n",
              "      <th>61695</th>\n",
              "      <td>3.213162</td>\n",
              "    </tr>\n",
              "    <tr>\n",
              "      <th>61761</th>\n",
              "      <td>3.466059</td>\n",
              "    </tr>\n",
              "    <tr>\n",
              "      <th>61783</th>\n",
              "      <td>3.086713</td>\n",
              "    </tr>\n",
              "    <tr>\n",
              "      <th>61790</th>\n",
              "      <td>3.845404</td>\n",
              "    </tr>\n",
              "  </tbody>\n",
              "</table>\n",
              "<p>732 rows × 1 columns</p>\n",
              "</div>\n",
              "      <button class=\"colab-df-convert\" onclick=\"convertToInteractive('df-bd0f4d87-3627-4822-9159-0f2769d7ae30')\"\n",
              "              title=\"Convert this dataframe to an interactive table.\"\n",
              "              style=\"display:none;\">\n",
              "        \n",
              "  <svg xmlns=\"http://www.w3.org/2000/svg\" height=\"24px\"viewBox=\"0 0 24 24\"\n",
              "       width=\"24px\">\n",
              "    <path d=\"M0 0h24v24H0V0z\" fill=\"none\"/>\n",
              "    <path d=\"M18.56 5.44l.94 2.06.94-2.06 2.06-.94-2.06-.94-.94-2.06-.94 2.06-2.06.94zm-11 1L8.5 8.5l.94-2.06 2.06-.94-2.06-.94L8.5 2.5l-.94 2.06-2.06.94zm10 10l.94 2.06.94-2.06 2.06-.94-2.06-.94-.94-2.06-.94 2.06-2.06.94z\"/><path d=\"M17.41 7.96l-1.37-1.37c-.4-.4-.92-.59-1.43-.59-.52 0-1.04.2-1.43.59L10.3 9.45l-7.72 7.72c-.78.78-.78 2.05 0 2.83L4 21.41c.39.39.9.59 1.41.59.51 0 1.02-.2 1.41-.59l7.78-7.78 2.81-2.81c.8-.78.8-2.07 0-2.86zM5.41 20L4 18.59l7.72-7.72 1.47 1.35L5.41 20z\"/>\n",
              "  </svg>\n",
              "      </button>\n",
              "      \n",
              "  <style>\n",
              "    .colab-df-container {\n",
              "      display:flex;\n",
              "      flex-wrap:wrap;\n",
              "      gap: 12px;\n",
              "    }\n",
              "\n",
              "    .colab-df-convert {\n",
              "      background-color: #E8F0FE;\n",
              "      border: none;\n",
              "      border-radius: 50%;\n",
              "      cursor: pointer;\n",
              "      display: none;\n",
              "      fill: #1967D2;\n",
              "      height: 32px;\n",
              "      padding: 0 0 0 0;\n",
              "      width: 32px;\n",
              "    }\n",
              "\n",
              "    .colab-df-convert:hover {\n",
              "      background-color: #E2EBFA;\n",
              "      box-shadow: 0px 1px 2px rgba(60, 64, 67, 0.3), 0px 1px 3px 1px rgba(60, 64, 67, 0.15);\n",
              "      fill: #174EA6;\n",
              "    }\n",
              "\n",
              "    [theme=dark] .colab-df-convert {\n",
              "      background-color: #3B4455;\n",
              "      fill: #D2E3FC;\n",
              "    }\n",
              "\n",
              "    [theme=dark] .colab-df-convert:hover {\n",
              "      background-color: #434B5C;\n",
              "      box-shadow: 0px 1px 3px 1px rgba(0, 0, 0, 0.15);\n",
              "      filter: drop-shadow(0px 1px 2px rgba(0, 0, 0, 0.3));\n",
              "      fill: #FFFFFF;\n",
              "    }\n",
              "  </style>\n",
              "\n",
              "      <script>\n",
              "        const buttonEl =\n",
              "          document.querySelector('#df-bd0f4d87-3627-4822-9159-0f2769d7ae30 button.colab-df-convert');\n",
              "        buttonEl.style.display =\n",
              "          google.colab.kernel.accessAllowed ? 'block' : 'none';\n",
              "\n",
              "        async function convertToInteractive(key) {\n",
              "          const element = document.querySelector('#df-bd0f4d87-3627-4822-9159-0f2769d7ae30');\n",
              "          const dataTable =\n",
              "            await google.colab.kernel.invokeFunction('convertToInteractive',\n",
              "                                                     [key], {});\n",
              "          if (!dataTable) return;\n",
              "\n",
              "          const docLinkHtml = 'Like what you see? Visit the ' +\n",
              "            '<a target=\"_blank\" href=https://colab.research.google.com/notebooks/data_table.ipynb>data table notebook</a>'\n",
              "            + ' to learn more about interactive tables.';\n",
              "          element.innerHTML = '';\n",
              "          dataTable['output_type'] = 'display_data';\n",
              "          await google.colab.output.renderOutput(dataTable, element);\n",
              "          const docLink = document.createElement('div');\n",
              "          docLink.innerHTML = docLinkHtml;\n",
              "          element.appendChild(docLink);\n",
              "        }\n",
              "      </script>\n",
              "    </div>\n",
              "  </div>\n",
              "  "
            ]
          },
          "metadata": {},
          "execution_count": 33
        }
      ],
      "source": [
        "#columnas:(lead_time, stays_in_weekend_nights, stays_in_week_nights, adults, children, babies, previous_cancellations, previous_bookings_not_canceled, booking_changes, days_in_waiting_list, required_car_parking_spaces)\n",
        "media_lead_time=np.mean(df_hotels_train.lead_time)\n",
        "std_lead_time=np.std(df_hotels_train.lead_time)\n",
        "df_zscore = pd.DataFrame()\n",
        "df_zscore['z_lead_time']=(df_hotels_train.lead_time - media_lead_time)/std_lead_time\n",
        "df_zscore[df_zscore['z_lead_time']>3]\n"
      ]
    },
    {
      "cell_type": "code",
      "execution_count": 34,
      "metadata": {
        "id": "Cej_pCnpECHS",
        "colab": {
          "base_uri": "https://localhost:8080/"
        },
        "outputId": "c90cf065-3498-42df-b30a-4a25881bf484"
      },
      "outputs": [
        {
          "output_type": "stream",
          "name": "stderr",
          "text": [
            "<ipython-input-34-6a0a74c2d425>:3: SettingWithCopyWarning: \n",
            "A value is trying to be set on a copy of a slice from a DataFrame\n",
            "\n",
            "See the caveats in the documentation: https://pandas.pydata.org/pandas-docs/stable/user_guide/indexing.html#returning-a-view-versus-a-copy\n",
            "  df_hotels_train.lead_time[i] = round(media_lead_time)\n"
          ]
        }
      ],
      "source": [
        "for i in range(len(df_zscore['z_lead_time'])):\n",
        "  if df_zscore.z_lead_time[i] > 3:\n",
        "    df_hotels_train.lead_time[i] = round(media_lead_time)"
      ]
    },
    {
      "cell_type": "code",
      "execution_count": 35,
      "metadata": {
        "id": "DOGcrc26EMFE",
        "colab": {
          "base_uri": "https://localhost:8080/"
        },
        "outputId": "1fa903a5-e206-41ec-f316-1384f5993be1"
      },
      "outputs": [
        {
          "output_type": "stream",
          "name": "stderr",
          "text": [
            "<ipython-input-35-66f8767a13d8>:4: SettingWithCopyWarning: \n",
            "A value is trying to be set on a copy of a slice from a DataFrame\n",
            "\n",
            "See the caveats in the documentation: https://pandas.pydata.org/pandas-docs/stable/user_guide/indexing.html#returning-a-view-versus-a-copy\n",
            "  df_hotels_train.previous_cancellations[i] = 0 #Redondeamos a 0 ya que no tiene sentido normilazarlos sacando una media\n"
          ]
        }
      ],
      "source": [
        "#Normalizamos previus cancellation\n",
        "for i in range(len(df_hotels_train.previous_cancellations)):\n",
        "  if df_hotels_train.previous_cancellations[i] > 10:\n",
        "    df_hotels_train.previous_cancellations[i] = 0 #Redondeamos a 0 ya que no tiene sentido normilazarlos sacando una media"
      ]
    },
    {
      "cell_type": "code",
      "execution_count": 36,
      "metadata": {
        "id": "0E0lRltOEScJ",
        "colab": {
          "base_uri": "https://localhost:8080/"
        },
        "outputId": "cbac7e97-6bc6-48b7-dee9-028aedee9983"
      },
      "outputs": [
        {
          "output_type": "stream",
          "name": "stderr",
          "text": [
            "<ipython-input-36-c7822855a731>:4: SettingWithCopyWarning: \n",
            "A value is trying to be set on a copy of a slice from a DataFrame\n",
            "\n",
            "See the caveats in the documentation: https://pandas.pydata.org/pandas-docs/stable/user_guide/indexing.html#returning-a-view-versus-a-copy\n",
            "  df_hotels_train.previous_bookings_not_canceled[i] = round(media_previous_bookings_not_canceled)\n"
          ]
        }
      ],
      "source": [
        "media_previous_bookings_not_canceled=np.mean(df_hotels_train.previous_bookings_not_canceled)\n",
        "for i in range(len(df_hotels_train.previous_bookings_not_canceled)):\n",
        "  if df_hotels_train.previous_bookings_not_canceled[i] > 30:\n",
        "    df_hotels_train.previous_bookings_not_canceled[i] = round(media_previous_bookings_not_canceled)"
      ]
    },
    {
      "cell_type": "code",
      "execution_count": 37,
      "metadata": {
        "id": "Srd6c_rEETU8",
        "colab": {
          "base_uri": "https://localhost:8080/"
        },
        "outputId": "bd59f0a7-3266-4bd8-bdde-03d3ad2d8495"
      },
      "outputs": [
        {
          "output_type": "stream",
          "name": "stderr",
          "text": [
            "<ipython-input-37-83ddfe064c16>:4: SettingWithCopyWarning: \n",
            "A value is trying to be set on a copy of a slice from a DataFrame\n",
            "\n",
            "See the caveats in the documentation: https://pandas.pydata.org/pandas-docs/stable/user_guide/indexing.html#returning-a-view-versus-a-copy\n",
            "  df_hotels_train.booking_changes[i] = 0 #Redondeamos a 0 ya que no tiene sentido normilazarlos sacando una media\n"
          ]
        }
      ],
      "source": [
        "#Normalizamos los valores atipicos de booking change\n",
        "for i in range(len(df_hotels_train.booking_changes)):\n",
        "  if df_hotels_train.booking_changes[i] > 10:\n",
        "    df_hotels_train.booking_changes[i] = 0 #Redondeamos a 0 ya que no tiene sentido normilazarlos sacando una media"
      ]
    },
    {
      "cell_type": "code",
      "execution_count": 38,
      "metadata": {
        "id": "QdrLoqUQEXJ9",
        "colab": {
          "base_uri": "https://localhost:8080/"
        },
        "outputId": "516f1f35-ba00-458c-eb5a-2c68885edc0f"
      },
      "outputs": [
        {
          "output_type": "stream",
          "name": "stderr",
          "text": [
            "<ipython-input-38-bc59f9949979>:5: SettingWithCopyWarning: \n",
            "A value is trying to be set on a copy of a slice from a DataFrame\n",
            "\n",
            "See the caveats in the documentation: https://pandas.pydata.org/pandas-docs/stable/user_guide/indexing.html#returning-a-view-versus-a-copy\n",
            "  df_hotels_train.days_in_waiting_list[i] = round(media_days_in_waiting_list)\n"
          ]
        }
      ],
      "source": [
        "media_days_in_waiting_list = np.mean(df_hotels_train.days_in_waiting_list)\n",
        "\n",
        "for i in range(len(df_hotels_train.days_in_waiting_list)):\n",
        "  if df_hotels_train.days_in_waiting_list[i] > 100:\n",
        "    df_hotels_train.days_in_waiting_list[i] = round(media_days_in_waiting_list)"
      ]
    },
    {
      "cell_type": "code",
      "execution_count": 39,
      "metadata": {
        "id": "M46EN1VPEZ0n",
        "colab": {
          "base_uri": "https://localhost:8080/"
        },
        "outputId": "59a3adbd-b07a-4acb-cc0d-010ee9f9e2db"
      },
      "outputs": [
        {
          "output_type": "stream",
          "name": "stderr",
          "text": [
            "<ipython-input-39-d22d66d29b29>:5: SettingWithCopyWarning: \n",
            "A value is trying to be set on a copy of a slice from a DataFrame\n",
            "\n",
            "See the caveats in the documentation: https://pandas.pydata.org/pandas-docs/stable/user_guide/indexing.html#returning-a-view-versus-a-copy\n",
            "  df_hotels_train.required_car_parking_spaces[i] = round(media_required_car_parking_spaces)\n"
          ]
        }
      ],
      "source": [
        "media_required_car_parking_spaces = np.mean(df_hotels_train.required_car_parking_spaces)\n",
        "\n",
        "for i in range(len(df_hotels_train.required_car_parking_spaces)):\n",
        "  if df_hotels_train.required_car_parking_spaces[i] > 7:\n",
        "    df_hotels_train.required_car_parking_spaces[i] = round(media_required_car_parking_spaces)"
      ]
    },
    {
      "cell_type": "code",
      "execution_count": 40,
      "metadata": {
        "id": "b81_ya2DEmz7"
      },
      "outputs": [],
      "source": [
        "\n",
        "df_hotels_train.reset_index(drop=True, inplace=True)\n",
        "for i in range(len(df_hotels_train)):\n",
        "  if df_hotels_train.adults[i] == 0:\n",
        "    df_hotels_train = df_hotels_train.drop(index = [i])\n",
        "\n",
        "df_hotels_train.reset_index(drop=True, inplace=True)"
      ]
    },
    {
      "cell_type": "code",
      "execution_count": 41,
      "metadata": {
        "id": "mWK1RzFJEoI9"
      },
      "outputs": [],
      "source": [
        "df_hotels_train.reset_index(drop=True, inplace=True)\n",
        "for i in range(len(df_hotels_train)):\n",
        "  if df_hotels_train.adults[i] <= 2 and df_hotels_train.babies[i] >= 8:\n",
        "    df_hotels_train = df_hotels_train.drop(index = [i])\n",
        "    \n",
        "\n",
        "df_hotels_train.reset_index(drop=True, inplace=True)"
      ]
    },
    {
      "cell_type": "code",
      "execution_count": 42,
      "metadata": {
        "id": "UZjV3q36EolQ",
        "colab": {
          "base_uri": "https://localhost:8080/"
        },
        "outputId": "da34d08e-64fa-44e6-809d-c7892b614fd1"
      },
      "outputs": [
        {
          "output_type": "stream",
          "name": "stderr",
          "text": [
            "<ipython-input-42-8ab05d604988>:5: SettingWithCopyWarning: \n",
            "A value is trying to be set on a copy of a slice from a DataFrame\n",
            "\n",
            "See the caveats in the documentation: https://pandas.pydata.org/pandas-docs/stable/user_guide/indexing.html#returning-a-view-versus-a-copy\n",
            "  df_hotels_train.adults[i] = round(media_adults)\n"
          ]
        }
      ],
      "source": [
        "media_adults=np.mean(df_hotels_train.adults)\n",
        "\n",
        "for i in range(len(df_hotels_train)):\n",
        "  if df_hotels_train.adults[i] >= 25:\n",
        "    df_hotels_train.adults[i] = round(media_adults)"
      ]
    },
    {
      "cell_type": "code",
      "execution_count": 43,
      "metadata": {
        "id": "IuPJ_YGBHlpx"
      },
      "outputs": [],
      "source": [
        "df_hotels_train.reset_index(drop=True, inplace=True)\n",
        "\n",
        "for i in range(len(df_hotels_train)):\n",
        "  if df_hotels_train.stays_in_week_nights[i] == 0 and df_hotels_train.stays_in_weekend_nights[i] == 0:\n",
        "    df_hotels_train = df_hotels_train.drop(index = [i])\n",
        "\n",
        "df_hotels_train.reset_index(drop=True, inplace=True)"
      ]
    },
    {
      "cell_type": "markdown",
      "metadata": {
        "id": "8FDsjQFAEyb2"
      },
      "source": [
        "Eliminamos id (recordar que la vamos a necesitar mas tarde)"
      ]
    },
    {
      "cell_type": "code",
      "execution_count": 44,
      "metadata": {
        "id": "Uy1F1_oHE1yh"
      },
      "outputs": [],
      "source": [
        "eliminar_columnas = ['id'] # -> Recordar que el id lo vamos a necesitar para machear en kaggle\n",
        "                                                                      \n",
        "df_hotels_train.drop(eliminar_columnas, axis='columns', inplace=True)"
      ]
    },
    {
      "cell_type": "markdown",
      "metadata": {
        "id": "IPl9Pd2oFGFz"
      },
      "source": [
        "## Realizamos un encode de las variables"
      ]
    },
    {
      "cell_type": "code",
      "execution_count": 45,
      "metadata": {
        "id": "L2xs9NYdFI_w"
      },
      "outputs": [],
      "source": [
        "# Realizamos el one hot encoding, con scikit learn.\n",
        "# Por cada columna a encodear, hacer un fit transform. Dropear la columna, y agregar las columnas nuevas con el nombre adecuado\n",
        "df_hotels_train_to_encode = df_hotels_train.copy()\n",
        "cols_a_encodear = ['hotel','arrival_date_month','customer_type','meal', 'distribution_channel','market_segment', 'reserved_room_type', 'assigned_room_type', 'deposit_type', 'country']\n",
        "ohe = OneHotEncoder(drop='first', handle_unknown='infrequent_if_exist') # Siempre se elimina la primera columna, o el feature entero si solo tiene un valor (no aporta informacion).\n",
        "transformer = make_column_transformer(\n",
        "    (ohe, cols_a_encodear),\n",
        "    remainder='passthrough',\n",
        "    verbose_feature_names_out=False\n",
        ")"
      ]
    },
    {
      "cell_type": "markdown",
      "metadata": {
        "id": "rxXxgeudyX0d"
      },
      "source": [
        "Dropeamos \"is_canceled\" ya que no es necesario encodearla y la guardamos en un dataset para utilizarla mas adelante"
      ]
    },
    {
      "cell_type": "code",
      "execution_count": 46,
      "metadata": {
        "id": "3jmf4GM3FN2e"
      },
      "outputs": [],
      "source": [
        "df_target = df_hotels_train['is_canceled']\n",
        "hotels_train_encoded = transformer.fit_transform(df_hotels_train_to_encode.drop('is_canceled', axis=1)) # Se dropea is_canceled, porque no hace falta encodearlo, y ademas la instancia de test no va a tener esa columna."
      ]
    },
    {
      "cell_type": "markdown",
      "metadata": {
        "id": "Yw57Q-zu7Uzc"
      },
      "source": [
        "Encodeamos nuestras variables"
      ]
    },
    {
      "cell_type": "code",
      "execution_count": 47,
      "metadata": {
        "id": "BLljnI_iFPiv"
      },
      "outputs": [],
      "source": [
        "df_hotels_train_encoded = pd.DataFrame(\n",
        "    hotels_train_encoded.toarray(), \n",
        "    columns=transformer.get_feature_names_out()\n",
        ")\n",
        "\n",
        "#Mostramos las primera 10 columnas de country, ya que el resto tiene una cantidad bajisima de datos y no aportan demasiado\n",
        "country_cols = df_hotels_train_encoded.columns[df_hotels_train_encoded.columns.str.startswith('country_')]\n",
        "selected_columns = (df_hotels_train_encoded[country_cols] != 0).sum()\n",
        "#top_cols = selected_columns.nlargest(10).index\n",
        "top_cols = ['country_PRT', 'country_GBR', 'country_FRA', 'country_ESP',\n",
        "       'country_DEU', 'country_ITA', 'country_IRL', 'country_BRA',\n",
        "       'country_BEL', 'country_USA']\n",
        "other_countries = [col for col in country_cols if col not in top_cols]\n",
        "df_hotels_train_encoded['country_other'] = df_hotels_train_encoded[other_countries].sum(axis=1)\n",
        "df_hotels_train_encoded.drop(other_countries, axis=1, inplace=True)   "
      ]
    },
    {
      "cell_type": "markdown",
      "metadata": {
        "id": "Zn76efLw3Lm9"
      },
      "source": [
        "Dividimos el data set y copiamos 'is_canceled'"
      ]
    },
    {
      "cell_type": "code",
      "execution_count": 48,
      "metadata": {
        "id": "YvavAihVLadM"
      },
      "outputs": [],
      "source": [
        "#Creo un dataset con los features que voy a usar para clasificar\n",
        "df_hotels_train_x = df_hotels_train_encoded\n",
        "\n",
        "#Creo un dataset con la variable target\n",
        "df_hotels_train_y = df_hotels_train['is_canceled'].copy()\n",
        "\n",
        "#Genero los conjuntos de train y test]\n",
        "x_train, x_test, y_train, y_test = train_test_split(df_hotels_train_x, \n",
        "                                                    df_hotels_train_y, \n",
        "                                                    test_size=0.3,  #proporcion 70/30\n",
        "                                                    random_state=2) #semilla"
      ]
    },
    {
      "cell_type": "markdown",
      "metadata": {
        "id": "lok1LbNv3127"
      },
      "source": [
        "Creamos una funcion para mostrar nuestras metricas"
      ]
    },
    {
      "cell_type": "code",
      "source": [
        "def metricas(y_pred,y_test):\n",
        "\n",
        "  print(classification_report(y_test,y_pred))\n",
        "  \n",
        "  cm = confusion_matrix(y_test,y_pred)\n",
        "  sns.heatmap(cm, cmap='Blues',annot=True,fmt='g')\n",
        "  plt.xlabel('Predicted')\n",
        "  plt.ylabel('True')"
      ],
      "metadata": {
        "id": "Yxm5zPZrwiSJ"
      },
      "execution_count": 49,
      "outputs": []
    },
    {
      "cell_type": "markdown",
      "source": [
        "##Redes Neuronales"
      ],
      "metadata": {
        "id": "nJNDhDoJPamf"
      }
    },
    {
      "cell_type": "markdown",
      "source": [
        "En esta etapa buscaremos crear una red neuronal para predecir nuestras cancelaciones de reserva.\n",
        "Luego, optimizaremos los hiper parametros para tratar de mejorar su performance"
      ],
      "metadata": {
        "id": "gYhfzgDuZvCn"
      }
    },
    {
      "cell_type": "markdown",
      "source": [
        "Importamos las librerias"
      ],
      "metadata": {
        "id": "x2vfyRc4boDG"
      }
    },
    {
      "cell_type": "code",
      "source": [
        "import matplotlib.pyplot as plt\n",
        "import seaborn as sns\n",
        "\n",
        "import pandas as pd\n",
        "import numpy as np\n",
        "\n",
        "from sklearn.metrics import f1_score,  recall_score, precision_score, accuracy_score\n",
        "from sklearn.preprocessing import StandardScaler\n",
        "from sklearn.model_selection import train_test_split\n",
        "\n",
        "\n",
        "import tensorflow as tf\n",
        "from tensorflow import keras\n",
        "from keras.utils.vis_utils import plot_model\n",
        "np.random.seed(1)\n",
        "tf.random.set_seed(1) \n",
        "\n",
        "import warnings\n",
        "warnings.filterwarnings(\"ignore\", category=DeprecationWarning) "
      ],
      "metadata": {
        "id": "HK-LcTrzbjz3"
      },
      "execution_count": 50,
      "outputs": []
    },
    {
      "cell_type": "markdown",
      "source": [
        "Escalamos nuestros datos"
      ],
      "metadata": {
        "id": "XA-fFKlAbr6f"
      }
    },
    {
      "cell_type": "code",
      "source": [
        "#Escalamos los datos de train de nuestro data set\n",
        "scaler = StandardScaler()\n",
        "x_train_scaled = scaler.fit_transform(x_train)\n",
        "x_test_scaled = scaler.transform(x_test)"
      ],
      "metadata": {
        "id": "beHsT0C-QB5u"
      },
      "execution_count": 99,
      "outputs": []
    },
    {
      "cell_type": "markdown",
      "source": [],
      "metadata": {
        "id": "zrRZysX2bv4l"
      }
    },
    {
      "cell_type": "code",
      "source": [
        "# Calculamos la cantidad de clases\n",
        "cant_clases = len(np.unique(y_train)) #Nuestro target\n",
        "d_in = len(x_train.columns) #Parametros de entrenamiento\n",
        "\n",
        "model_reservas = keras.Sequential([\n",
        "   keras.layers.Dense(1,input_shape=(d_in,), activation='relu',kernel_initializer='uniform'),\n",
        "    keras.layers.Dense(1, activation='sigmoid')])\n",
        "\n",
        "\n",
        "#Mostramos los resultados\n",
        "model_reservas.summary()\n"
      ],
      "metadata": {
        "colab": {
          "base_uri": "https://localhost:8080/"
        },
        "id": "Tw__fvUDaDoF",
        "outputId": "2139cbcd-1d94-4c42-a375-ea87b2a06530"
      },
      "execution_count": 123,
      "outputs": [
        {
          "output_type": "stream",
          "name": "stdout",
          "text": [
            "Model: \"sequential_20\"\n",
            "_________________________________________________________________\n",
            " Layer (type)                Output Shape              Param #   \n",
            "=================================================================\n",
            " dense_46 (Dense)            (None, 1)                 81        \n",
            "                                                                 \n",
            " dense_47 (Dense)            (None, 1)                 2         \n",
            "                                                                 \n",
            "=================================================================\n",
            "Total params: 83\n",
            "Trainable params: 83\n",
            "Non-trainable params: 0\n",
            "_________________________________________________________________\n"
          ]
        }
      ]
    },
    {
      "cell_type": "markdown",
      "source": [
        "Compilamos el modelo"
      ],
      "metadata": {
        "id": "BJNd9tXqhP4h"
      }
    },
    {
      "cell_type": "code",
      "source": [
        "y_train.values"
      ],
      "metadata": {
        "colab": {
          "base_uri": "https://localhost:8080/"
        },
        "id": "SA_AX9V-vGtz",
        "outputId": "c9590d01-e61b-49c8-c070-912d4d8a2524"
      },
      "execution_count": 92,
      "outputs": [
        {
          "output_type": "execute_result",
          "data": {
            "text/plain": [
              "array([1, 0, 0, ..., 0, 1, 0])"
            ]
          },
          "metadata": {},
          "execution_count": 92
        }
      ]
    },
    {
      "cell_type": "code",
      "source": [
        "model_reservas.compile(\n",
        "    optimizer = keras.optimizers.SGD(learning_rate = 0.001),, \n",
        "    loss = 'binary_crossentropy', #Como mi salida es binaria uso binary_crossentropy\n",
        "\n",
        "    #Metrica que calcula en cada it \n",
        "\n",
        "    metrics = ['Recall'] #Cambiar metrica por f1_score\n",
        ")\n",
        "\n",
        "cant_epochs = 100\n",
        "h_model_reservas = model_reservas.fit(x_train_scaled, y_train, epochs = cant_epochs, batch_size = 16, verbose = False )"
      ],
      "metadata": {
        "id": "uQSebtzihRSB"
      },
      "execution_count": 146,
      "outputs": []
    },
    {
      "cell_type": "code",
      "source": [
        "y_predic_res = model_reservas.predict(x_test_scaled) #Realizamos el predict"
      ],
      "metadata": {
        "colab": {
          "base_uri": "https://localhost:8080/"
        },
        "id": "umNOpUlNgyYk",
        "outputId": "a25b94df-e6cc-430d-a5f7-ce35fd27b7d0"
      },
      "execution_count": 147,
      "outputs": [
        {
          "output_type": "stream",
          "name": "stdout",
          "text": [
            "577/577 [==============================] - 1s 2ms/step\n"
          ]
        }
      ]
    },
    {
      "cell_type": "code",
      "source": [
        "y_predic_res.shape #Vemos el predict"
      ],
      "metadata": {
        "colab": {
          "base_uri": "https://localhost:8080/"
        },
        "id": "4LaOUS0Vg7oO",
        "outputId": "81b93716-487b-4ac3-c926-ee956994140c"
      },
      "execution_count": 148,
      "outputs": [
        {
          "output_type": "execute_result",
          "data": {
            "text/plain": [
              "(18435, 1)"
            ]
          },
          "metadata": {},
          "execution_count": 148
        }
      ]
    },
    {
      "cell_type": "markdown",
      "source": [
        "Graficamos la matriz de confusion y mostramos nuestras metricas"
      ],
      "metadata": {
        "id": "cHyX0AV7xZcb"
      }
    },
    {
      "cell_type": "code",
      "source": [
        "y_predic_ = model_reservas.predict(x_test_scaled)\n",
        "y_predic_cat = np.where(y_predic_>0.4,1,0) #Seteamos un corte en los datos para determinar si cancelo o no \n",
        "\n",
        "ds_validacion=pd.DataFrame(y_predic_cat,y_test).reset_index() #Armamos un dataset\n",
        "ds_validacion.columns=['y_pred','y_real'] #Nombramos las columnas\n",
        "\n",
        "metricas(ds_validacion.y_pred,ds_validacion.y_real) #Dividimos el dataset"
      ],
      "metadata": {
        "id": "RS-PNkarxYwM",
        "colab": {
          "base_uri": "https://localhost:8080/",
          "height": 636
        },
        "outputId": "12ff1bae-4656-438b-9446-b2ab9af1107d"
      },
      "execution_count": 149,
      "outputs": [
        {
          "output_type": "stream",
          "name": "stdout",
          "text": [
            "577/577 [==============================] - 1s 1ms/step\n",
            "              precision    recall  f1-score   support\n",
            "\n",
            "           0       0.73      0.86      0.79      7850\n",
            "           1       0.88      0.76      0.82     10585\n",
            "\n",
            "    accuracy                           0.80     18435\n",
            "   macro avg       0.80      0.81      0.80     18435\n",
            "weighted avg       0.81      0.80      0.80     18435\n",
            "\n"
          ]
        },
        {
          "output_type": "display_data",
          "data": {
            "text/plain": [
              "<Figure size 640x480 with 2 Axes>"
            ],
            "image/png": "[encoded data removed]"
          },
          "metadata": {}
        }
      ]
    }
  ],
  "metadata": {
    "accelerator": "TPU",
    "colab": {
      "provenance": []
    },
    "gpuClass": "standard",
    "kernelspec": {
      "display_name": "Python 3 (ipykernel)",
      "language": "python",
      "name": "python3"
    },
    "language_info": {
      "codemirror_mode": {
        "name": "ipython",
        "version": 3
      },
      "file_extension": ".py",
      "mimetype": "text/x-python",
      "name": "python",
      "nbconvert_exporter": "python",
      "pygments_lexer": "ipython3",
      "version": "3.10.9"
    }
  },
  "nbformat": 4,
  "nbformat_minor": 0
}